{
 "cells": [
  {
   "cell_type": "markdown",
   "id": "871864dc",
   "metadata": {},
   "source": [
    "# Filtering the data from Open Alex"
   ]
  },
  {
   "cell_type": "markdown",
   "id": "737c1ac5",
   "metadata": {},
   "source": [
    "I first import the modules I will need."
   ]
  },
  {
   "cell_type": "code",
   "execution_count": 1,
   "id": "c5bd25f0",
   "metadata": {},
   "outputs": [],
   "source": [
    "import json\n",
    "from tqdm import tqdm\n",
    "from datetime import datetime\n",
    "import pickle\n",
    "import pandas as pd"
   ]
  },
  {
   "cell_type": "markdown",
   "id": "c0f8c4fa",
   "metadata": {},
   "source": [
    "I define some variables for further use."
   ]
  },
  {
   "cell_type": "code",
   "execution_count": 2,
   "id": "4c192fad",
   "metadata": {},
   "outputs": [],
   "source": [
    "my_years = ['2012', '2013', '2014', '2015', '2016', '2017', '2018', '2019', '2020', '2021', '2022']\n",
    "my_months = ['January', 'February', 'March', 'April', 'May', 'June', 'July',\n",
    "            'August', 'September', 'October', 'November', 'December']"
   ]
  },
  {
   "cell_type": "code",
   "execution_count": 3,
   "id": "9c7409aa",
   "metadata": {},
   "outputs": [],
   "source": [
    "# technologies from Sarah's work\n",
    "concept_ids = {\n",
    "     'Authentication protocol': 'C21564112',\n",
    "    'Biometrics': 'C184297639',\n",
    "    'Blockchain': 'C2779687700',\n",
    "    # 'Database Encryption': '',\n",
    "    'Differential Privacy': 'C23130292',\n",
    "    'Digital rights management': 'C537843408',\n",
    "    'Digital signature': 'C118463975',\n",
    "    'Disk Encryption': 'C9368797',\n",
    "    'Distributed algorithm': 'C130120984',\n",
    "    'Electronic voting': 'C2780612046',\n",
    "    # 'Email encryption': '',\n",
    "    'Functional encryption': 'C2780746774',\n",
    "    'Hardware acceleration': 'C13164978',\n",
    "    'Hardware security module': 'C39217717',\n",
    "    'Hash function': 'C99138194',\n",
    "    'Homomorphic encryption': 'C158338273',\n",
    "    'Identity management': 'C555379026',\n",
    "    # 'Identity-based encryption': '',\n",
    "    'Key management': 'C17886624',\n",
    "    'Link encryption': 'C69254412',\n",
    "    'Post-quantum cryptography': 'C108277079',\n",
    "    # 'Private set intersection': '',\n",
    "    'Public-key cryptography': 'C203062551',\n",
    "    'Quantum key distribution': 'C95466800',\n",
    "    'Quantum cryptography': 'C144901912',\n",
    "    'Random number generation': 'C201866948',\n",
    "    # 'Searchable symmetric encryption': '',\n",
    "    'Symmetric-key algorithm': 'C65302260',\n",
    "    'Threshold cryptosystem': 'C123744220',\n",
    "    'Trusted Computing': 'C2776831232',\n",
    "    # 'Trusted execution environment': '',\n",
    "    'Tunneling protocol': 'C76885553',\n",
    "    'Zero-knowlegde proof': 'C176329583'\n",
    "}"
   ]
  },
  {
   "cell_type": "markdown",
   "id": "4e2d3e3d",
   "metadata": {},
   "source": [
    "I download the raw data I scrapped from OpenAlex, to filter it."
   ]
  },
  {
   "cell_type": "code",
   "execution_count": 4,
   "id": "63a3ee55",
   "metadata": {},
   "outputs": [],
   "source": [
    "with open('data_creation_variables/raw_data.json', \"rb\") as f:\n",
    "    raw_data = json.load(f)"
   ]
  },
  {
   "cell_type": "markdown",
   "id": "41073381",
   "metadata": {},
   "source": [
    "I define some variables, I will compute to analyze slightly my data."
   ]
  },
  {
   "cell_type": "code",
   "execution_count": 5,
   "id": "edd54bb0",
   "metadata": {},
   "outputs": [],
   "source": [
    "number_missing_referencedwork = 0\n",
    "number_missing_abstracts = 0\n",
    "number_missing_ids = 0\n",
    "number_missing_titles = 0\n",
    "number_missing_authors = 0\n",
    "number_missing_date = 0\n",
    "number_missing_concepts = 0\n",
    "number_missing_citing_works = 0\n",
    "\n",
    "listofpaper = []"
   ]
  },
  {
   "cell_type": "markdown",
   "id": "5832cb02",
   "metadata": {},
   "source": [
    "I define my dictionary, that I will fill and turn into a dataframe."
   ]
  },
  {
   "cell_type": "code",
   "execution_count": 6,
   "id": "98fffa52",
   "metadata": {},
   "outputs": [],
   "source": [
    "filtered_data = {'id':[],\n",
    "                'title':[],\n",
    "                'publication_date' : [],\n",
    "                'authorships' : [],\n",
    "                'referenced_works' : [],\n",
    "                'abstract_inverted_index':[],\n",
    "                'concepts' : [],\n",
    "                'year' : [],\n",
    "                'month' : [],\n",
    "                'work_citing_this_paper' : []}"
   ]
  },
  {
   "cell_type": "markdown",
   "id": "4680d30f",
   "metadata": {},
   "source": [
    "Now I filter my data iterating over it."
   ]
  },
  {
   "cell_type": "code",
   "execution_count": 7,
   "id": "3eac48ee",
   "metadata": {},
   "outputs": [
    {
     "name": "stderr",
     "output_type": "stream",
     "text": [
      "100%|███████████████████████████████████████████████████████████████████████████████| 27/27 [1:37:16<00:00, 216.18s/it]\n"
     ]
    }
   ],
   "source": [
    "for concept, concept_id in tqdm(concept_ids.items()):\n",
    "    lentec = len(raw_data[concept])\n",
    "    \n",
    "    # we take the length of the list of papers for one\n",
    "    # technology and iterate over this list\n",
    "    \n",
    "    for i in range(lentec):\n",
    "        p = raw_data[concept][i]\n",
    "        if p['id'] not in listofpaper:\n",
    "            listofpaper.append(p['id'])\n",
    "            dt = datetime.strptime(p['publication_date'], '%Y-%m-%d')\n",
    "            year = dt.year\n",
    "            month = dt.month\n",
    "            \n",
    "            # I choose only papers above 2011. This is an arbitrary choice, I could change that.\n",
    "            \n",
    "            if year > 2001 and year < 2023:\n",
    "                if len(p['referenced_works']) == 0:\n",
    "                    number_missing_referencedwork = number_missing_referencedwork + 1\n",
    "                if len(p['cited_by_api_url']) == 0:\n",
    "                    number_missing_citing_works = number_missing_citing_works + 1\n",
    "                if p['abstract_inverted_index'] == {} or p['abstract_inverted_index'] == None:\n",
    "                    number_missing_abstracts = number_missing_abstracts + 1\n",
    "                if p['id'] == None:\n",
    "                    number_missing_ids = number_missing_ids + 1\n",
    "                if p['title'] == None:\n",
    "                    number_missing_titles = number_missing_titles + 1\n",
    "                if p['publication_date'] == None:\n",
    "                    number_missing_date = number_missing_date + 1\n",
    "                if len(p['authorships']) == 0:\n",
    "                    number_missing_authors = number_missing_authors + 1\n",
    "                if len(p['concepts']) == 0:\n",
    "                    number_missing_concepts = number_missing_concepts + 1\n",
    "                    \n",
    "                # I want to take only papers with all the informations I want\n",
    "                # In fact, the others (that are not many) will be of no use for my research\n",
    "                if p['publication_date'] != None and len(p['authorships']) != 0 \\\n",
    "                        and len(p['concepts']) != 0 and p['title'] != None:\n",
    "\n",
    "                    dt = datetime.strptime(p['publication_date'], '%Y-%m-%d')\n",
    "                    year = dt.year\n",
    "                    index_month = dt.month - 1  # it gives a number and I take minus 1 to have my index\n",
    "                    month = my_months[index_month]\n",
    "                    filtered_data['id'].append(p['id'])\n",
    "                    filtered_data['title'].append(p['title'])\n",
    "                    filtered_data['publication_date'].append(p['publication_date'])\n",
    "                    filtered_data['authorships'].append(p['authorships'])\n",
    "                    filtered_data['referenced_works'].append(p['referenced_works'])\n",
    "                    filtered_data['abstract_inverted_index'].append(p['abstract_inverted_index'])\n",
    "                    filtered_data['concepts'].append(p['concepts'])\n",
    "                    filtered_data['year'].append(year)\n",
    "                    filtered_data['month'].append(month)\n",
    "                    filtered_data['work_citing_this_paper'].append([p['cited_by_api_url']])"
   ]
  },
  {
   "cell_type": "markdown",
   "id": "32f7fbef",
   "metadata": {},
   "source": [
    "I save all my data and print some statistics I have computed so far."
   ]
  },
  {
   "cell_type": "code",
   "execution_count": 8,
   "id": "56de9119",
   "metadata": {},
   "outputs": [],
   "source": [
    "with open(\"data_creation_variables/filtered_data\", \"wb\") as fp:   #Pickling\n",
    "    pickle.dump(filtered_data, fp)"
   ]
  },
  {
   "cell_type": "code",
   "execution_count": 9,
   "id": "0b3cd091",
   "metadata": {},
   "outputs": [
    {
     "name": "stdout",
     "output_type": "stream",
     "text": [
      "Papers with missing referenced works: 113738\n",
      "Papers with missing abstracts:62682\n",
      "Papers with missing id:0\n",
      "Papers with missing titles:79\n",
      "Papers with missing authors:7466\n",
      "Papers with missing concepts:0\n",
      "Papers with missing publication date:0\n",
      "Papers with missing citing works: 0\n"
     ]
    }
   ],
   "source": [
    "print('Papers with missing referenced works: ' + str(number_missing_referencedwork))\n",
    "print('Papers with missing abstracts:' + str(number_missing_abstracts))\n",
    "print('Papers with missing id:' + str(number_missing_ids))\n",
    "print('Papers with missing titles:' + str(number_missing_titles))\n",
    "print('Papers with missing authors:' + str(number_missing_authors))\n",
    "print('Papers with missing concepts:' + str(number_missing_concepts))\n",
    "print('Papers with missing publication date:' + str(number_missing_date))\n",
    "print('Papers with missing citing works: ' + str(number_missing_citing_works))"
   ]
  }
 ],
 "metadata": {
  "kernelspec": {
   "display_name": "Python 3 (ipykernel)",
   "language": "python",
   "name": "python3"
  },
  "language_info": {
   "codemirror_mode": {
    "name": "ipython",
    "version": 3
   },
   "file_extension": ".py",
   "mimetype": "text/x-python",
   "name": "python",
   "nbconvert_exporter": "python",
   "pygments_lexer": "ipython3",
   "version": "3.9.12"
  }
 },
 "nbformat": 4,
 "nbformat_minor": 5
}
