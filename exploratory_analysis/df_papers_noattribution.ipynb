{
 "cells": [
  {
   "cell_type": "code",
   "execution_count": 8,
   "id": "6383d4ca",
   "metadata": {},
   "outputs": [],
   "source": [
    "import pickle\n",
    "import numpy as np\n",
    "import pandas as pd\n",
    "import matplotlib.pyplot as plt\n",
    "from matplotlib.colors import LogNorm, Normalize\n",
    "from matplotlib.ticker import MaxNLocator\n",
    "import seaborn as sns\n",
    "from scipy import stats\n",
    "import re\n",
    "import nltk\n",
    "import missingno as msno\n",
    "from tqdm import tqdm\n",
    "import json\n",
    "import statistics\n",
    "import math\n",
    "\n",
    "nltk.download(\"stopwords\", quiet=True)\n",
    "from nltk.corpus import stopwords\n",
    "from gensim.models import Phrases\n",
    "from collections import Counter\n",
    "\n",
    "# enabling Jupyter Lab to include the output of our plots directly in this notebook\n",
    "%matplotlib inline\n",
    "\n",
    "\n",
    "# used to avoid blurry output plots in Jupyter Notebooks\n",
    "%config InLineBackend.figure_format = \"retina\"\n",
    "\n",
    "pd.options.mode.chained_assignment = None"
   ]
  },
  {
   "cell_type": "code",
   "execution_count": 9,
   "id": "e2965cf4",
   "metadata": {},
   "outputs": [
    {
     "name": "stdout",
     "output_type": "stream",
     "text": [
      "0\n",
      "1\n",
      "2\n",
      "3\n",
      "4\n",
      "5\n",
      "6\n",
      "7\n",
      "8\n",
      "9\n",
      "10\n",
      "11\n"
     ]
    }
   ],
   "source": [
    "for i in range(12):\n",
    "    print(i)"
   ]
  },
  {
   "cell_type": "code",
   "execution_count": 10,
   "id": "5eaa5726",
   "metadata": {},
   "outputs": [],
   "source": [
    "infile_df_concept_prob = open('data/df_concept_prob','rb')\n",
    "df_concept_prob = pickle.load(infile_df_concept_prob)\n",
    "infile_df_concept_prob.close()"
   ]
  },
  {
   "cell_type": "code",
   "execution_count": 11,
   "id": "06c809f4",
   "metadata": {},
   "outputs": [
    {
     "data": {
      "text/html": [
       "<div>\n",
       "<style scoped>\n",
       "    .dataframe tbody tr th:only-of-type {\n",
       "        vertical-align: middle;\n",
       "    }\n",
       "\n",
       "    .dataframe tbody tr th {\n",
       "        vertical-align: top;\n",
       "    }\n",
       "\n",
       "    .dataframe thead th {\n",
       "        text-align: right;\n",
       "    }\n",
       "</style>\n",
       "<table border=\"1\" class=\"dataframe\">\n",
       "  <thead>\n",
       "    <tr style=\"text-align: right;\">\n",
       "      <th></th>\n",
       "      <th>Disk Encryption</th>\n",
       "      <th>Differential Privacy</th>\n",
       "    </tr>\n",
       "  </thead>\n",
       "  <tbody>\n",
       "    <tr>\n",
       "      <th>0</th>\n",
       "      <td>0</td>\n",
       "      <td>0</td>\n",
       "    </tr>\n",
       "    <tr>\n",
       "      <th>1</th>\n",
       "      <td>0</td>\n",
       "      <td>0</td>\n",
       "    </tr>\n",
       "    <tr>\n",
       "      <th>2</th>\n",
       "      <td>0</td>\n",
       "      <td>0</td>\n",
       "    </tr>\n",
       "    <tr>\n",
       "      <th>3</th>\n",
       "      <td>0</td>\n",
       "      <td>0</td>\n",
       "    </tr>\n",
       "    <tr>\n",
       "      <th>4</th>\n",
       "      <td>0</td>\n",
       "      <td>0</td>\n",
       "    </tr>\n",
       "    <tr>\n",
       "      <th>...</th>\n",
       "      <td>...</td>\n",
       "      <td>...</td>\n",
       "    </tr>\n",
       "    <tr>\n",
       "      <th>7747</th>\n",
       "      <td>0</td>\n",
       "      <td>0</td>\n",
       "    </tr>\n",
       "    <tr>\n",
       "      <th>7748</th>\n",
       "      <td>0</td>\n",
       "      <td>0</td>\n",
       "    </tr>\n",
       "    <tr>\n",
       "      <th>7749</th>\n",
       "      <td>0</td>\n",
       "      <td>0</td>\n",
       "    </tr>\n",
       "    <tr>\n",
       "      <th>7750</th>\n",
       "      <td>0</td>\n",
       "      <td>0</td>\n",
       "    </tr>\n",
       "    <tr>\n",
       "      <th>7751</th>\n",
       "      <td>0</td>\n",
       "      <td>0</td>\n",
       "    </tr>\n",
       "  </tbody>\n",
       "</table>\n",
       "<p>7752 rows × 2 columns</p>\n",
       "</div>"
      ],
      "text/plain": [
       "      Disk Encryption  Differential Privacy\n",
       "0                   0                     0\n",
       "1                   0                     0\n",
       "2                   0                     0\n",
       "3                   0                     0\n",
       "4                   0                     0\n",
       "...               ...                   ...\n",
       "7747                0                     0\n",
       "7748                0                     0\n",
       "7749                0                     0\n",
       "7750                0                     0\n",
       "7751                0                     0\n",
       "\n",
       "[7752 rows x 2 columns]"
      ]
     },
     "execution_count": 11,
     "metadata": {},
     "output_type": "execute_result"
    }
   ],
   "source": [
    "df_concept_prob"
   ]
  },
  {
   "cell_type": "code",
   "execution_count": 12,
   "id": "f2d9292b",
   "metadata": {},
   "outputs": [
    {
     "data": {
      "text/html": [
       "<div>\n",
       "<style scoped>\n",
       "    .dataframe tbody tr th:only-of-type {\n",
       "        vertical-align: middle;\n",
       "    }\n",
       "\n",
       "    .dataframe tbody tr th {\n",
       "        vertical-align: top;\n",
       "    }\n",
       "\n",
       "    .dataframe thead th {\n",
       "        text-align: right;\n",
       "    }\n",
       "</style>\n",
       "<table border=\"1\" class=\"dataframe\">\n",
       "  <thead>\n",
       "    <tr style=\"text-align: right;\">\n",
       "      <th></th>\n",
       "      <th>Disk Encryption</th>\n",
       "      <th>Differential Privacy</th>\n",
       "    </tr>\n",
       "  </thead>\n",
       "  <tbody>\n",
       "    <tr>\n",
       "      <th>count</th>\n",
       "      <td>7752.0</td>\n",
       "      <td>7752.0</td>\n",
       "    </tr>\n",
       "    <tr>\n",
       "      <th>mean</th>\n",
       "      <td>0.0</td>\n",
       "      <td>0.0</td>\n",
       "    </tr>\n",
       "    <tr>\n",
       "      <th>std</th>\n",
       "      <td>0.0</td>\n",
       "      <td>0.0</td>\n",
       "    </tr>\n",
       "    <tr>\n",
       "      <th>min</th>\n",
       "      <td>0.0</td>\n",
       "      <td>0.0</td>\n",
       "    </tr>\n",
       "    <tr>\n",
       "      <th>25%</th>\n",
       "      <td>0.0</td>\n",
       "      <td>0.0</td>\n",
       "    </tr>\n",
       "    <tr>\n",
       "      <th>50%</th>\n",
       "      <td>0.0</td>\n",
       "      <td>0.0</td>\n",
       "    </tr>\n",
       "    <tr>\n",
       "      <th>75%</th>\n",
       "      <td>0.0</td>\n",
       "      <td>0.0</td>\n",
       "    </tr>\n",
       "    <tr>\n",
       "      <th>max</th>\n",
       "      <td>0.0</td>\n",
       "      <td>0.0</td>\n",
       "    </tr>\n",
       "  </tbody>\n",
       "</table>\n",
       "</div>"
      ],
      "text/plain": [
       "       Disk Encryption  Differential Privacy\n",
       "count           7752.0                7752.0\n",
       "mean               0.0                   0.0\n",
       "std                0.0                   0.0\n",
       "min                0.0                   0.0\n",
       "25%                0.0                   0.0\n",
       "50%                0.0                   0.0\n",
       "75%                0.0                   0.0\n",
       "max                0.0                   0.0"
      ]
     },
     "execution_count": 12,
     "metadata": {},
     "output_type": "execute_result"
    }
   ],
   "source": [
    "df_concept_prob.describe()"
   ]
  },
  {
   "cell_type": "code",
   "execution_count": 13,
   "id": "71bffc0a",
   "metadata": {},
   "outputs": [
    {
     "name": "stdout",
     "output_type": "stream",
     "text": [
      "<class 'pandas.core.frame.DataFrame'>\n",
      "RangeIndex: 7752 entries, 0 to 7751\n",
      "Data columns (total 2 columns):\n",
      " #   Column                Non-Null Count  Dtype\n",
      "---  ------                --------------  -----\n",
      " 0   Disk Encryption       7752 non-null   int64\n",
      " 1   Differential Privacy  7752 non-null   int64\n",
      "dtypes: int64(2)\n",
      "memory usage: 121.2 KB\n"
     ]
    }
   ],
   "source": [
    "df_concept_prob.info()"
   ]
  },
  {
   "cell_type": "code",
   "execution_count": 14,
   "id": "549650ee",
   "metadata": {},
   "outputs": [
    {
     "data": {
      "text/html": [
       "<div>\n",
       "<style scoped>\n",
       "    .dataframe tbody tr th:only-of-type {\n",
       "        vertical-align: middle;\n",
       "    }\n",
       "\n",
       "    .dataframe tbody tr th {\n",
       "        vertical-align: top;\n",
       "    }\n",
       "\n",
       "    .dataframe thead th {\n",
       "        text-align: right;\n",
       "    }\n",
       "</style>\n",
       "<table border=\"1\" class=\"dataframe\">\n",
       "  <thead>\n",
       "    <tr style=\"text-align: right;\">\n",
       "      <th></th>\n",
       "      <th>Disk Encryption</th>\n",
       "      <th>Differential Privacy</th>\n",
       "    </tr>\n",
       "  </thead>\n",
       "  <tbody>\n",
       "  </tbody>\n",
       "</table>\n",
       "</div>"
      ],
      "text/plain": [
       "Empty DataFrame\n",
       "Columns: [Disk Encryption, Differential Privacy]\n",
       "Index: []"
      ]
     },
     "execution_count": 14,
     "metadata": {},
     "output_type": "execute_result"
    }
   ],
   "source": [
    "df_nonnull_AU=df_concept_prob.loc[df_concept_prob['Differential Privacy']!=0].copy()\n",
    "df_nonnull_AU"
   ]
  },
  {
   "cell_type": "code",
   "execution_count": 16,
   "id": "3b341791",
   "metadata": {},
   "outputs": [
    {
     "data": {
      "text/html": [
       "<div>\n",
       "<style scoped>\n",
       "    .dataframe tbody tr th:only-of-type {\n",
       "        vertical-align: middle;\n",
       "    }\n",
       "\n",
       "    .dataframe tbody tr th {\n",
       "        vertical-align: top;\n",
       "    }\n",
       "\n",
       "    .dataframe thead th {\n",
       "        text-align: right;\n",
       "    }\n",
       "</style>\n",
       "<table border=\"1\" class=\"dataframe\">\n",
       "  <thead>\n",
       "    <tr style=\"text-align: right;\">\n",
       "      <th></th>\n",
       "      <th>Disk Encryption</th>\n",
       "      <th>Differential Privacy</th>\n",
       "    </tr>\n",
       "  </thead>\n",
       "  <tbody>\n",
       "  </tbody>\n",
       "</table>\n",
       "</div>"
      ],
      "text/plain": [
       "Empty DataFrame\n",
       "Columns: [Disk Encryption, Differential Privacy]\n",
       "Index: []"
      ]
     },
     "execution_count": 16,
     "metadata": {},
     "output_type": "execute_result"
    }
   ],
   "source": [
    "df_nonnull_ZP=df_concept_prob.loc[df_concept_prob['Disk Encryption']!=0].copy()\n",
    "df_nonnull_ZP"
   ]
  },
  {
   "cell_type": "code",
   "execution_count": 17,
   "id": "db29a6d3",
   "metadata": {},
   "outputs": [],
   "source": [
    "list_ZP = [float(x) for x in df_concept_prob['Disk Encryption'].tolist()]\n",
    "list_AP = [float(x) for x in df_concept_prob['Differential Privacy'].tolist()]\n"
   ]
  },
  {
   "cell_type": "code",
   "execution_count": 17,
   "id": "acce5709",
   "metadata": {},
   "outputs": [
    {
     "data": {
      "text/plain": [
       "0.22752570673981884"
      ]
     },
     "execution_count": 17,
     "metadata": {},
     "output_type": "execute_result"
    }
   ],
   "source": [
    "sum(list_AP) / len(list_AP)"
   ]
  },
  {
   "cell_type": "code",
   "execution_count": 18,
   "id": "858a7412",
   "metadata": {},
   "outputs": [
    {
     "data": {
      "text/plain": [
       "0.06103211109810376"
      ]
     },
     "execution_count": 18,
     "metadata": {},
     "output_type": "execute_result"
    }
   ],
   "source": [
    "sum(list_ZP) / len(list_ZP)"
   ]
  },
  {
   "cell_type": "code",
   "execution_count": 3,
   "id": "bb961503",
   "metadata": {},
   "outputs": [],
   "source": [
    "infile_finaldicocitation_full = open('data/finaldicocitation_full','rb')\n",
    "dfcitations = pickle.load(infile_finaldicocitation_full)\n",
    "infile_finaldicocitation_full.close()"
   ]
  },
  {
   "cell_type": "code",
   "execution_count": 4,
   "id": "f593ba18",
   "metadata": {},
   "outputs": [
    {
     "data": {
      "text/html": [
       "<div>\n",
       "<style scoped>\n",
       "    .dataframe tbody tr th:only-of-type {\n",
       "        vertical-align: middle;\n",
       "    }\n",
       "\n",
       "    .dataframe tbody tr th {\n",
       "        vertical-align: top;\n",
       "    }\n",
       "\n",
       "    .dataframe thead th {\n",
       "        text-align: right;\n",
       "    }\n",
       "</style>\n",
       "<table border=\"1\" class=\"dataframe\">\n",
       "  <thead>\n",
       "    <tr style=\"text-align: right;\">\n",
       "      <th></th>\n",
       "      <th>paper</th>\n",
       "      <th>year</th>\n",
       "      <th>month</th>\n",
       "      <th>cituptothistime_year</th>\n",
       "      <th>cituptothistime_month</th>\n",
       "      <th>citforthemonth</th>\n",
       "      <th>citfortheyear</th>\n",
       "    </tr>\n",
       "  </thead>\n",
       "  <tbody>\n",
       "    <tr>\n",
       "      <th>0</th>\n",
       "      <td>https://openalex.org/W2165167841</td>\n",
       "      <td>2012</td>\n",
       "      <td>January</td>\n",
       "      <td>0</td>\n",
       "      <td>0</td>\n",
       "      <td>0</td>\n",
       "      <td>0</td>\n",
       "    </tr>\n",
       "    <tr>\n",
       "      <th>1</th>\n",
       "      <td>https://openalex.org/W2165167841</td>\n",
       "      <td>2012</td>\n",
       "      <td>February</td>\n",
       "      <td>0</td>\n",
       "      <td>0</td>\n",
       "      <td>0</td>\n",
       "      <td>0</td>\n",
       "    </tr>\n",
       "    <tr>\n",
       "      <th>2</th>\n",
       "      <td>https://openalex.org/W2165167841</td>\n",
       "      <td>2012</td>\n",
       "      <td>March</td>\n",
       "      <td>0</td>\n",
       "      <td>0</td>\n",
       "      <td>0</td>\n",
       "      <td>0</td>\n",
       "    </tr>\n",
       "    <tr>\n",
       "      <th>3</th>\n",
       "      <td>https://openalex.org/W2165167841</td>\n",
       "      <td>2012</td>\n",
       "      <td>April</td>\n",
       "      <td>0</td>\n",
       "      <td>0</td>\n",
       "      <td>0</td>\n",
       "      <td>0</td>\n",
       "    </tr>\n",
       "    <tr>\n",
       "      <th>4</th>\n",
       "      <td>https://openalex.org/W2165167841</td>\n",
       "      <td>2012</td>\n",
       "      <td>May</td>\n",
       "      <td>0</td>\n",
       "      <td>0</td>\n",
       "      <td>0</td>\n",
       "      <td>0</td>\n",
       "    </tr>\n",
       "    <tr>\n",
       "      <th>...</th>\n",
       "      <td>...</td>\n",
       "      <td>...</td>\n",
       "      <td>...</td>\n",
       "      <td>...</td>\n",
       "      <td>...</td>\n",
       "      <td>...</td>\n",
       "      <td>...</td>\n",
       "    </tr>\n",
       "    <tr>\n",
       "      <th>26359603</th>\n",
       "      <td>https://openalex.org/W2566052079</td>\n",
       "      <td>2022</td>\n",
       "      <td>August</td>\n",
       "      <td>44</td>\n",
       "      <td>44</td>\n",
       "      <td>0</td>\n",
       "      <td>0</td>\n",
       "    </tr>\n",
       "    <tr>\n",
       "      <th>26359604</th>\n",
       "      <td>https://openalex.org/W2566052079</td>\n",
       "      <td>2022</td>\n",
       "      <td>September</td>\n",
       "      <td>44</td>\n",
       "      <td>44</td>\n",
       "      <td>0</td>\n",
       "      <td>0</td>\n",
       "    </tr>\n",
       "    <tr>\n",
       "      <th>26359605</th>\n",
       "      <td>https://openalex.org/W2566052079</td>\n",
       "      <td>2022</td>\n",
       "      <td>October</td>\n",
       "      <td>44</td>\n",
       "      <td>44</td>\n",
       "      <td>0</td>\n",
       "      <td>0</td>\n",
       "    </tr>\n",
       "    <tr>\n",
       "      <th>26359606</th>\n",
       "      <td>https://openalex.org/W2566052079</td>\n",
       "      <td>2022</td>\n",
       "      <td>November</td>\n",
       "      <td>44</td>\n",
       "      <td>44</td>\n",
       "      <td>0</td>\n",
       "      <td>0</td>\n",
       "    </tr>\n",
       "    <tr>\n",
       "      <th>26359607</th>\n",
       "      <td>https://openalex.org/W2566052079</td>\n",
       "      <td>2022</td>\n",
       "      <td>December</td>\n",
       "      <td>44</td>\n",
       "      <td>44</td>\n",
       "      <td>0</td>\n",
       "      <td>0</td>\n",
       "    </tr>\n",
       "  </tbody>\n",
       "</table>\n",
       "<p>26359608 rows × 7 columns</p>\n",
       "</div>"
      ],
      "text/plain": [
       "                                     paper  year      month  \\\n",
       "0         https://openalex.org/W2165167841  2012    January   \n",
       "1         https://openalex.org/W2165167841  2012   February   \n",
       "2         https://openalex.org/W2165167841  2012      March   \n",
       "3         https://openalex.org/W2165167841  2012      April   \n",
       "4         https://openalex.org/W2165167841  2012        May   \n",
       "...                                    ...   ...        ...   \n",
       "26359603  https://openalex.org/W2566052079  2022     August   \n",
       "26359604  https://openalex.org/W2566052079  2022  September   \n",
       "26359605  https://openalex.org/W2566052079  2022    October   \n",
       "26359606  https://openalex.org/W2566052079  2022   November   \n",
       "26359607  https://openalex.org/W2566052079  2022   December   \n",
       "\n",
       "          cituptothistime_year  cituptothistime_month  citforthemonth  \\\n",
       "0                            0                      0               0   \n",
       "1                            0                      0               0   \n",
       "2                            0                      0               0   \n",
       "3                            0                      0               0   \n",
       "4                            0                      0               0   \n",
       "...                        ...                    ...             ...   \n",
       "26359603                    44                     44               0   \n",
       "26359604                    44                     44               0   \n",
       "26359605                    44                     44               0   \n",
       "26359606                    44                     44               0   \n",
       "26359607                    44                     44               0   \n",
       "\n",
       "          citfortheyear  \n",
       "0                     0  \n",
       "1                     0  \n",
       "2                     0  \n",
       "3                     0  \n",
       "4                     0  \n",
       "...                 ...  \n",
       "26359603              0  \n",
       "26359604              0  \n",
       "26359605              0  \n",
       "26359606              0  \n",
       "26359607              0  \n",
       "\n",
       "[26359608 rows x 7 columns]"
      ]
     },
     "execution_count": 4,
     "metadata": {},
     "output_type": "execute_result"
    }
   ],
   "source": [
    "dfcitations"
   ]
  },
  {
   "cell_type": "code",
   "execution_count": 5,
   "id": "f63a9bd6",
   "metadata": {},
   "outputs": [],
   "source": [
    "mypapers= list(set(dfcitations.paper.tolist()))"
   ]
  },
  {
   "cell_type": "code",
   "execution_count": 6,
   "id": "1b4a5d06",
   "metadata": {},
   "outputs": [
    {
     "data": {
      "text/plain": [
       "199694"
      ]
     },
     "execution_count": 6,
     "metadata": {},
     "output_type": "execute_result"
    }
   ],
   "source": [
    "len(mypapers)"
   ]
  },
  {
   "cell_type": "code",
   "execution_count": 7,
   "id": "84c108dd",
   "metadata": {},
   "outputs": [
    {
     "data": {
      "image/png": "[encoded data removed]",
      "text/plain": [
       "<Figure size 640x480 with 1 Axes>"
      ]
     },
     "metadata": {},
     "output_type": "display_data"
    }
   ],
   "source": [
    "# little fancy visualization for dfcitations\n",
    "\n",
    "dfcitations_noduplicates = dfcitations.drop_duplicates()\n",
    "\n",
    "# data to be displayed\n",
    "data = [len(dfcitations_noduplicates), len(dfcitations) - len(dfcitations_noduplicates)]\n",
    "\n",
    "# labels for radability and intepretation\n",
    "labels = [\"not duplicates\", \"duplicates\"]\n",
    "\n",
    "# colors\n",
    "colors = sns.color_palette(\"Set2\")\n",
    "\n",
    "# creating the pie chart\n",
    "plt.pie(data, labels=labels, colors=colors, autopct=\"%0.1f%%\")\n",
    "\n",
    "# title\n",
    "plt.title(\n",
    "    \"Proportion of duplicates in the dataset: dfcitations\",\n",
    "    color=\"black\",  # I am using the 'white' color here, as I am using the 'dark mode' of Jupyter Lab.\n",
    "    fontsize=14,\n",
    ")\n",
    "\n",
    "# legend\n",
    "plt.legend(bbox_to_anchor=(1, 1))\n",
    "\n",
    "# calling the pie chart\n",
    "plt.show()"
   ]
  },
  {
   "cell_type": "code",
   "execution_count": null,
   "id": "4a6e76c4",
   "metadata": {},
   "outputs": [],
   "source": []
  }
 ],
 "metadata": {
  "kernelspec": {
   "display_name": "Python 3 (ipykernel)",
   "language": "python",
   "name": "python3"
  },
  "language_info": {
   "codemirror_mode": {
    "name": "ipython",
    "version": 3
   },
   "file_extension": ".py",
   "mimetype": "text/x-python",
   "name": "python",
   "nbconvert_exporter": "python",
   "pygments_lexer": "ipython3",
   "version": "3.9.12"
  }
 },
 "nbformat": 4,
 "nbformat_minor": 5
}
