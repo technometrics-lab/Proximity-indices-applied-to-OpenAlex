{
 "cells": [
  {
   "cell_type": "markdown",
   "id": "07300458",
   "metadata": {},
   "source": [
    "# Creation dataframe of concepts"
   ]
  },
  {
   "cell_type": "markdown",
   "id": "5a3f9e9b",
   "metadata": {},
   "source": [
    "_Foreword_\n",
    "\n",
    "The goal of this notebook is to create a pandas dataframe, containing for each paper, the concepts and the score of attribution to these concepts for each paper."
   ]
  },
  {
   "cell_type": "markdown",
   "id": "4898a1f6",
   "metadata": {},
   "source": [
    "Importing the necessary libraries."
   ]
  },
  {
   "cell_type": "code",
   "execution_count": 1,
   "id": "510ea9d8",
   "metadata": {},
   "outputs": [],
   "source": [
    "import json\n",
    "from tqdm import tqdm\n",
    "import pandas as pd\n",
    "import pickle\n",
    "import math\n",
    "from datetime import datetime\n",
    "from myfunctions import create_dico_concept"
   ]
  },
  {
   "cell_type": "markdown",
   "id": "b40ebcd4",
   "metadata": {},
   "source": [
    "Importing df_full_cleaned, that was cleaned and processed by the file \"dataexploration_full_data\"."
   ]
  },
  {
   "cell_type": "code",
   "execution_count": 2,
   "id": "93fede7f",
   "metadata": {},
   "outputs": [],
   "source": [
    "infile_data_full = open('../exploratory_analysis/data_exploratory_analysis/df_full_cleaned','rb')\n",
    "df_full = pickle.load(infile_data_full)\n",
    "infile_data_full.close()"
   ]
  },
  {
   "cell_type": "markdown",
   "id": "402cb08e",
   "metadata": {},
   "source": [
    "Defining a list of concepts, which have papers attributed to it."
   ]
  },
  {
   "cell_type": "code",
   "execution_count": 3,
   "id": "4787db5a",
   "metadata": {},
   "outputs": [],
   "source": [
    "list_concepts_withpaper= ['Authentication protocole','Biometrics','Blockchain','Digital rights management',\n",
    "'Digital signature','Distributed algorithm','Electronic voting','Functional encryption',\n",
    "'Hardware acceleration','Hardware security module','Hash function','Homomorphic encryption','Identity management',\n",
    "'Key management','Link encryption','Post-quantum cryptography','Public-key cryptography','Quantum key distribution',\n",
    "'Quantum cryptography','Random number generation','Symmetric-key algorithm','Threshold cryptosystem',\n",
    "'Trusted Computing','Tunneling protocol','Zero-knowlegde proof']"
   ]
  },
  {
   "cell_type": "markdown",
   "id": "65146efd",
   "metadata": {},
   "source": [
    "Defining some variables that I will use to do the computations."
   ]
  },
  {
   "cell_type": "code",
   "execution_count": 4,
   "id": "4d2494a1",
   "metadata": {},
   "outputs": [],
   "source": [
    "listpapers = list(set(df_full.paper.tolist()))"
   ]
  },
  {
   "cell_type": "code",
   "execution_count": 5,
   "id": "2550d5de",
   "metadata": {},
   "outputs": [],
   "source": [
    "numberofpapers= len(listpapers) \n",
    "fractionnumber = 200"
   ]
  },
  {
   "cell_type": "code",
   "execution_count": 6,
   "id": "8f7c84ea",
   "metadata": {},
   "outputs": [],
   "source": [
    "items = ['paper','technologies','score','publication_date','year','month']"
   ]
  },
  {
   "cell_type": "code",
   "execution_count": 7,
   "id": "3d18e288",
   "metadata": {},
   "outputs": [],
   "source": [
    "dicofconcepts = {'paper':[],\n",
    "                 'technologies':[],\n",
    "                 'score':[],\n",
    "                 'publication_date':[],\n",
    "                 'year':[],\n",
    "                 'month':[]}"
   ]
  },
  {
   "cell_type": "code",
   "execution_count": 8,
   "id": "412dd5d1",
   "metadata": {},
   "outputs": [],
   "source": [
    "df_full = df_full[['paper','publication_date','year','month','concepts','score_concepts']]\n",
    "df_full = df_full.drop_duplicates()"
   ]
  },
  {
   "cell_type": "code",
   "execution_count": 9,
   "id": "f9eb2cd4",
   "metadata": {},
   "outputs": [],
   "source": [
    "df_full = df_full.set_index(\"paper\")"
   ]
  },
  {
   "cell_type": "code",
   "execution_count": null,
   "id": "ccb4e6f7",
   "metadata": {},
   "outputs": [],
   "source": []
  },
  {
   "cell_type": "code",
   "execution_count": 10,
   "id": "1453ce0d",
   "metadata": {},
   "outputs": [
    {
     "name": "stderr",
     "output_type": "stream",
     "text": [
      "100%|████████████████████████████████████████████████████████████████████████████████| 200/200 [03:48<00:00,  1.14s/it]\n"
     ]
    }
   ],
   "source": [
    "# again I first divide my list of papers in smaller subsets and then process it.\n",
    "# at the end I put everything together in my dictionary, which I turn into a pandas dataframe.\n",
    "for i in tqdm(range(fractionnumber)):\n",
    "    start = i*math.floor(numberofpapers/fractionnumber)\n",
    "    end = (i+1)*math.floor(numberofpapers/fractionnumber)\n",
    "    if i == fractionnumber-1:\n",
    "        mypapers = listpapers[start:]\n",
    "    else:\n",
    "        mypapers = listpapers[start:end]\n",
    "    newdf = create_dico_concept(mypapers,df_full)\n",
    "    # I drop these rows in order for the future computations to be faster\n",
    "    # in any case the proper file will not be impacted, since it is still registered\n",
    "    # on my hardware\n",
    "    for item in items:\n",
    "        dicofconcepts[item]=dicofconcepts[item]+newdf[item]"
   ]
  },
  {
   "cell_type": "code",
   "execution_count": 11,
   "id": "7e372939",
   "metadata": {},
   "outputs": [],
   "source": [
    "dicofconcepts = pd.DataFrame(dicofconcepts)"
   ]
  },
  {
   "cell_type": "code",
   "execution_count": 12,
   "id": "d6430b3f",
   "metadata": {},
   "outputs": [],
   "source": [
    "dicofconcepts.to_pickle('data_creation_variables/dicofconcepts')"
   ]
  },
  {
   "cell_type": "code",
   "execution_count": null,
   "id": "240a010f",
   "metadata": {},
   "outputs": [],
   "source": []
  }
 ],
 "metadata": {
  "kernelspec": {
   "display_name": "Python 3 (ipykernel)",
   "language": "python",
   "name": "python3"
  },
  "language_info": {
   "codemirror_mode": {
    "name": "ipython",
    "version": 3
   },
   "file_extension": ".py",
   "mimetype": "text/x-python",
   "name": "python",
   "nbconvert_exporter": "python",
   "pygments_lexer": "ipython3",
   "version": "3.9.12"
  }
 },
 "nbformat": 4,
 "nbformat_minor": 5
}
