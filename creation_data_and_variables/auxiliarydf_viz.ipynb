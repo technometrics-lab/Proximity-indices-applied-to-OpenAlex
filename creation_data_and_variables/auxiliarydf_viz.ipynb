{
 "cells": [
  {
   "cell_type": "code",
   "execution_count": null,
   "id": "5748ca22",
   "metadata": {},
   "outputs": [],
   "source": [
    "import pickle\n",
    "import pandas as pd\n",
    "from tqdm import tqdm\n",
    "import math"
   ]
  },
  {
   "cell_type": "code",
   "execution_count": null,
   "id": "7d446eac",
   "metadata": {},
   "outputs": [],
   "source": [
    "def compute_info_keywords(listkeywords, dfkeywords, my_years, my_months):\n",
    "    dico_importance_keywords = {'keyword': [], 'year': [], 'month': [], 'importance_for_the_month': [],\n",
    "                                'importance_to_the_month': [],\n",
    "                                'importance_for_the_year': [], 'importance_to_the_year': []}\n",
    "\n",
    "    df_myinfos_keyword = dfkeywords.loc[dfkeywords['keyword'].isin(listkeywords)].copy()\n",
    "\n",
    "    for keyword in listkeywords:\n",
    "        mypreviousyearimportance = 0\n",
    "        myincrementalvalue = 0\n",
    "\n",
    "        infokeyword = df_myinfos_keyword.loc[df_myinfos_keyword['keyword'] == keyword].copy()\n",
    "        for year in my_years:\n",
    "            # I reduce my selection of citing paper to the year I am considering\n",
    "            # this will make everything run much faster!\n",
    "            infokeywords_year = infokeyword.loc[infokeyword['year'] == year].copy()\n",
    "            for month in my_months:\n",
    "                infokeywords_month = infokeywords_year.loc[infokeywords_year['month'] == month].copy()\n",
    "                # we compute the number of citations for this specific month\n",
    "                if len(infokeywords_month) == 0:\n",
    "                    cos_sim = 0\n",
    "                else:\n",
    "                    list_cos_sim = infokeywords_month.cosine_similarity.tolist()\n",
    "                    cos_sim = list_cos_sim[0]\n",
    "                myincrementalvalue = myincrementalvalue + cos_sim\n",
    "                dico_importance_keywords['importance_to_the_month'].append(myincrementalvalue)\n",
    "                dico_importance_keywords['importance_for_the_month'].append(cos_sim)\n",
    "                dico_importance_keywords['keyword'].append(keyword)\n",
    "                dico_importance_keywords['year'].append(year)\n",
    "                dico_importance_keywords['month'].append(month)\n",
    "                if month == 'December':\n",
    "                    # I add 12 times my incremental value\n",
    "                    dico_importance_keywords['importance_to_the_year'] = \\\n",
    "                    dico_importance_keywords['importance_to_the_year'] + 12 * [myincrementalvalue]\n",
    "\n",
    "                    importancefortheyear = myincrementalvalue - mypreviousyearimportance\n",
    "                    dico_importance_keywords['importance_for_the_year'] = \\\n",
    "                    dico_importance_keywords['importance_for_the_year'] + 12 * [importancefortheyear]\n",
    "                    mypreviousyearimportance = myincrementalvalue\n",
    "\n",
    "    dfkeywords_importance = pd.DataFrame(dico_importance_keywords)\n",
    "    return dfkeywords_importance"
   ]
  },
  {
   "cell_type": "code",
   "execution_count": null,
   "id": "444d1835",
   "metadata": {},
   "outputs": [],
   "source": [
    "infile_keywords = open('data_creation_variables/dfkeywords','rb')\n",
    "dfkeywords = pickle.load(infile_keywords)\n",
    "infile_keywords.close()"
   ]
  },
  {
   "cell_type": "code",
   "execution_count": null,
   "id": "c903c0fb",
   "metadata": {},
   "outputs": [],
   "source": [
    "# I create a list of all keywords I have in my dataset and their importance in general\n",
    "mykeywords = list(set(dfkeywords.keyword.tolist()))"
   ]
  },
  {
   "cell_type": "code",
   "execution_count": null,
   "id": "94560df0",
   "metadata": {},
   "outputs": [],
   "source": [
    "# I create here a dataframe where I have the importance of each keyword in this\n",
    "dico_importance_keywords={'keyword':[],'year':[],'month':[],'importance_for_the_month':[],\n",
    "                          'importance_to_the_month':[],\n",
    "                         'importance_for_the_year':[],'importance_to_the_year':[]}"
   ]
  },
  {
   "cell_type": "code",
   "execution_count": null,
   "id": "e199d271",
   "metadata": {},
   "outputs": [],
   "source": [
    "my_months = ['January','February','March','April','May','June',\n",
    "             'July','August','September','October','November','December']\n",
    "\n",
    "my_years = [2002,2003,2004,2005,2006,2007,2008,2009,2010,2011,2012,2013,2014,2015,2016,2017,2018,2019,2020,2021,2022]"
   ]
  },
  {
   "cell_type": "code",
   "execution_count": null,
   "id": "406161a6",
   "metadata": {},
   "outputs": [],
   "source": [
    "numberkeywords = len(mykeywords)\n",
    "\n",
    "fractionnumber = 100\n",
    "\n",
    "list_listkeywords = []"
   ]
  },
  {
   "cell_type": "code",
   "execution_count": null,
   "id": "e6058dda",
   "metadata": {},
   "outputs": [],
   "source": [
    "for i in tqdm(range(fractionnumber)):\n",
    "    start = i*math.floor(numberkeywords/fractionnumber)\n",
    "    end = (i+1)*math.floor(numberkeywords/fractionnumber)\n",
    "    if i == fractionnumber-1:\n",
    "        mylistkeywords= mykeywords[start:]\n",
    "    else:\n",
    "        mylistkeywords = mykeywords[start:end]\n",
    "    list_listkeywords.append(mylistkeywords)"
   ]
  },
  {
   "cell_type": "code",
   "execution_count": null,
   "id": "49547984",
   "metadata": {},
   "outputs": [],
   "source": [
    "listindex= [0,20,40,60,80,100]"
   ]
  },
  {
   "cell_type": "code",
   "execution_count": null,
   "id": "6268b70b",
   "metadata": {},
   "outputs": [],
   "source": [
    "items = ['keyword','year','month','importance_for_the_month',\n",
    "'importance_to_the_month', 'importance_for_the_year','importance_to_the_year']"
   ]
  },
  {
   "cell_type": "code",
   "execution_count": null,
   "id": "d72b616a",
   "metadata": {},
   "outputs": [],
   "source": [
    "for j in range(5):\n",
    "    dico_importance_keywords = {'keyword': [], 'year': [], 'month': [], 'importance_for_the_month': [],\n",
    "                                'importance_to_the_month': [],\n",
    "                                'importance_for_the_year': [], 'importance_to_the_year': []}\n",
    "\n",
    "    list_listkeywords_compute=list_listkeywords[listindex[j]:listindex[j+1]]\n",
    "    list_df = list(map(lambda x: compute_info_keywords(x,dfkeywords,my_years,my_months), tqdm(list_listkeywords_compute)))\n",
    "    for element in list_df:\n",
    "        for item in items:\n",
    "            mynewlist = element[item].tolist()\n",
    "            dico_importance_keywords[item] = dico_importance_keywords[item] + mynewlist\n",
    "    newfile = pd.DataFrame(dico_importance_keywords)\n",
    "    newfile.to_pickle('data_creation_variables/df_importance_keywords'+str(j))"
   ]
  },
  {
   "cell_type": "code",
   "execution_count": null,
   "id": "98fcd94b",
   "metadata": {},
   "outputs": [],
   "source": [
    "dico_importance_keywords = {'keyword': [], 'year': [], 'month': [], 'importance_for_the_month': [],\n",
    "                            'importance_to_the_month': [],\n",
    "                            'importance_for_the_year': [], 'importance_to_the_year': []}"
   ]
  },
  {
   "cell_type": "code",
   "execution_count": null,
   "id": "71028941",
   "metadata": {},
   "outputs": [],
   "source": [
    "for j in range(5):\n",
    "    with open('data_creation_variables/df_importance_keywords'+str(j), 'rb') as f:\n",
    "        df_importance_keywords = pickle.load(f)\n",
    "    for item in items:\n",
    "        mynewlist = df_importance_keywords[item].tolist()\n",
    "        dico_importance_keywords[item] = dico_importance_keywords[item] + mynewlist"
   ]
  },
  {
   "cell_type": "code",
   "execution_count": null,
   "id": "46c2f8ef",
   "metadata": {},
   "outputs": [],
   "source": [
    "dfkeywords_importance = pd.DataFrame(dico_importance_keywords)\n",
    "dfkeywords_importance.to_pickle('data_creation_variables/dfkeywords_importance')"
   ]
  },
  {
   "cell_type": "code",
   "execution_count": null,
   "id": "3d0ab55a",
   "metadata": {},
   "outputs": [],
   "source": [
    "# create a panda data frame with : dico_average_cos_sim = {'keyword': [], 'average_sim': []"
   ]
  },
  {
   "cell_type": "code",
   "execution_count": null,
   "id": "e80fd946",
   "metadata": {},
   "outputs": [],
   "source": [
    "mykeywords = list(set(dfkeywords.keyword.tolist()))"
   ]
  },
  {
   "cell_type": "code",
   "execution_count": null,
   "id": "21b43e67",
   "metadata": {},
   "outputs": [],
   "source": [
    "dico_average_cos_sim = {'keyword': [], 'average_sim': []}"
   ]
  },
  {
   "cell_type": "code",
   "execution_count": null,
   "id": "ba967ee0",
   "metadata": {},
   "outputs": [],
   "source": [
    "for word in tqdm(mykeywords):\n",
    "    info_word = dfkeywords.loc[dfkeywords['keyword'] == word].copy()\n",
    "    info_cos_sim = info_word.cosine_similarity.tolist()\n",
    "    average_sim = sum(info_cos_sim) / len(info_cos_sim)\n",
    "    dico_average_cos_sim['keyword'].append(word)\n",
    "    dico_average_cos_sim['average_sim'].append(average_sim)"
   ]
  },
  {
   "cell_type": "code",
   "execution_count": null,
   "id": "013c0a63",
   "metadata": {},
   "outputs": [],
   "source": [
    "average_cos_sim_df = pd.DataFrame(dico_average_cos_sim)"
   ]
  },
  {
   "cell_type": "code",
   "execution_count": null,
   "id": "91ce4a34",
   "metadata": {},
   "outputs": [],
   "source": [
    "average_cos_sim_df.to_pickle('data_creation_variables/df_average_cosim')"
   ]
  }
 ],
 "metadata": {
  "kernelspec": {
   "display_name": "Python 3 (ipykernel)",
   "language": "python",
   "name": "python3"
  },
  "language_info": {
   "codemirror_mode": {
    "name": "ipython",
    "version": 3
   },
   "file_extension": ".py",
   "mimetype": "text/x-python",
   "name": "python",
   "nbconvert_exporter": "python",
   "pygments_lexer": "ipython3",
   "version": "3.9.12"
  }
 },
 "nbformat": 4,
 "nbformat_minor": 5
}
