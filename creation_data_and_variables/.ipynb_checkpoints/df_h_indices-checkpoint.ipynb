{
 "cells": [
  {
   "cell_type": "code",
   "execution_count": 1,
   "id": "fbd92d2a",
   "metadata": {},
   "outputs": [],
   "source": [
    "import pandas as pd\n",
    "import time\n",
    "import pickle\n",
    "from tqdm import tqdm\n",
    "import math\n",
    "import numpy as np\n",
    "from myfunctions import myfunctionindex, compute_h_indices"
   ]
  },
  {
   "cell_type": "code",
   "execution_count": 2,
   "id": "85f36f42",
   "metadata": {},
   "outputs": [],
   "source": [
    "# I want to upload the dataframes I will need to compute the H-indices.\n",
    "# I will put my code here, when I will be done\n",
    "\n",
    "infile_dfauthorcit = open('data_creation_variables/finalauthorcitation', 'rb')\n",
    "dfauthorcit = pickle.load(infile_dfauthorcit)\n",
    "infile_dfauthorcit.close()"
   ]
  },
  {
   "cell_type": "code",
   "execution_count": 3,
   "id": "7bfad3a1",
   "metadata": {},
   "outputs": [],
   "source": [
    "# for each paper we will have a value in the list cituptothistime etc. and regrouping by author, month, year,\n",
    "# I will have the lists I need to compute the all the H-indices I want."
   ]
  },
  {
   "cell_type": "code",
   "execution_count": 4,
   "id": "f42dcdf4",
   "metadata": {},
   "outputs": [],
   "source": [
    "dico_h_indices = {'author': [],\n",
    "                  'year': [],\n",
    "                  'month': [],\n",
    "                  'yearly_H_index_notincremental': [],\n",
    "                  'yearly_H_index_incremental': [],\n",
    "                  'monthly_H_index_incremental': [],\n",
    "                  'monthly_H_index_notincremental': []\n",
    "                  }"
   ]
  },
  {
   "cell_type": "code",
   "execution_count": 5,
   "id": "3ff22041",
   "metadata": {},
   "outputs": [],
   "source": [
    "# this is what I want to fill in\n",
    "\n",
    "# Now I want to use groupby to compute my H-indices, using finalauthorcitation I have just created.\n",
    "my_years = [2002,2003,2004,2005,2006,2007,2008,2009,2010,2011,2012,2013,2014,2015,2016,2017,2018,2019,2020,2021,2022]\n",
    "my_months = ['January', 'February', 'March', 'April', 'May', 'June', 'July',\n",
    "            'August', 'September', 'October', 'November', 'December']"
   ]
  },
  {
   "cell_type": "code",
   "execution_count": 6,
   "id": "ec923198",
   "metadata": {},
   "outputs": [],
   "source": [
    "items = ['author','year','month','yearly_H_index_notincremental',\n",
    "'yearly_H_index_incremental','monthly_H_index_incremental','monthly_H_index_notincremental']"
   ]
  },
  {
   "cell_type": "code",
   "execution_count": 7,
   "id": "cbc8cd64",
   "metadata": {},
   "outputs": [],
   "source": [
    "# this line of code eliminates the duplicates from our list\n",
    "listofauthor = list(set(dfauthorcit.author.tolist()))\n",
    "\n",
    "numberofauthors= len(listofauthor) # ~150000 authors in total\n",
    "fractionnumber = 200\n",
    "\n",
    "numberofauthors=len(listofauthor)\n",
    "fractionnumber=100"
   ]
  },
  {
   "cell_type": "code",
   "execution_count": 8,
   "id": "47358237",
   "metadata": {},
   "outputs": [],
   "source": [
    "list_listauthors=[]"
   ]
  },
  {
   "cell_type": "code",
   "execution_count": 9,
   "id": "0b1ce44c",
   "metadata": {},
   "outputs": [
    {
     "name": "stderr",
     "output_type": "stream",
     "text": [
      "100%|█████████████████████████████████████████████████████████████████████████████| 100/100 [00:00<00:00, 20051.17it/s]\n"
     ]
    }
   ],
   "source": [
    "for i in tqdm(range(fractionnumber)):\n",
    "    start = i*math.floor(numberofauthors/fractionnumber)\n",
    "    end = (i+1)*math.floor(numberofauthors/fractionnumber)\n",
    "    if i == fractionnumber-1:\n",
    "        myauthors= listofauthor[start:]\n",
    "    else:\n",
    "        myauthors = listofauthor[start:end]\n",
    "    list_listauthors.append(myauthors)"
   ]
  },
  {
   "cell_type": "code",
   "execution_count": 10,
   "id": "f943dcd8",
   "metadata": {},
   "outputs": [],
   "source": [
    "listindex= [0,20,40,60,80,100]"
   ]
  },
  {
   "cell_type": "code",
   "execution_count": 11,
   "id": "48d71a1b",
   "metadata": {},
   "outputs": [],
   "source": [
    "items = ['author',\n",
    "        'year',\n",
    "        'month',\n",
    "        'yearly_H_index_notincremental',\n",
    "        'yearly_H_index_incremental',\n",
    "        'monthly_H_index_incremental',\n",
    "        'monthly_H_index_notincremental']"
   ]
  },
  {
   "cell_type": "code",
   "execution_count": null,
   "id": "5341864f",
   "metadata": {},
   "outputs": [],
   "source": [
    "for j in range(5):\n",
    "    final_h_index = {'author': [],\n",
    "                  'year': [],\n",
    "                  'month': [],\n",
    "                  'yearly_H_index_notincremental': [],\n",
    "                  'yearly_H_index_incremental': [],\n",
    "                  'monthly_H_index_incremental': [],\n",
    "                  'monthly_H_index_notincremental': []\n",
    "                  }\n",
    "    list_lisauthors_compute=list_listauthors[listindex[j]:listindex[j+1]]\n",
    "    list_df = list(map(lambda x: compute_h_indices(x,dfauthorcit,my_years,my_months), tqdm(list_lisauthors_compute)))\n",
    "    for element in list_df:\n",
    "        for item in items:\n",
    "            mynewlist = element[item].tolist()\n",
    "            final_h_index[item] = final_h_index[item] + mynewlist\n",
    "    newfile = pd.DataFrame(final_h_index)\n",
    "    newfile.to_pickle('data_creation_variables/final_h_index'+str(j))"
   ]
  },
  {
   "cell_type": "code",
   "execution_count": 12,
   "id": "a2c02286",
   "metadata": {},
   "outputs": [],
   "source": [
    "final_h_index = {'author': [],\n",
    "                 'year': [],\n",
    "                 'month': [],\n",
    "                 'yearly_H_index_notincremental': [],\n",
    "                 'yearly_H_index_incremental': [],\n",
    "                 'monthly_H_index_incremental': [],\n",
    "                 'monthly_H_index_notincremental': []\n",
    "                 }"
   ]
  },
  {
   "cell_type": "code",
   "execution_count": 13,
   "id": "9edd0770",
   "metadata": {},
   "outputs": [],
   "source": [
    "for j in range(5):\n",
    "    with open('data_creation_variables/final_h_index'+str(j), 'rb') as f:\n",
    "        dfdicohindex = pickle.load(f)\n",
    "    for item in items:\n",
    "        mynewlist = dfdicohindex[item].tolist()\n",
    "        final_h_index[item] = final_h_index[item] + mynewlist\n",
    "    del dfdicohindex"
   ]
  },
  {
   "cell_type": "code",
   "execution_count": 14,
   "id": "c857d1d7",
   "metadata": {},
   "outputs": [],
   "source": [
    "df_h_indices = pd.DataFrame(final_h_index)"
   ]
  },
  {
   "cell_type": "code",
   "execution_count": 15,
   "id": "5dd63ba0",
   "metadata": {},
   "outputs": [],
   "source": [
    "df_h_indices.to_pickle('data_creation_variables/df_h_indices')"
   ]
  },
  {
   "cell_type": "code",
   "execution_count": null,
   "id": "f6afbebc",
   "metadata": {},
   "outputs": [],
   "source": []
  }
 ],
 "metadata": {
  "kernelspec": {
   "display_name": "Python 3 (ipykernel)",
   "language": "python",
   "name": "python3"
  },
  "language_info": {
   "codemirror_mode": {
    "name": "ipython",
    "version": 3
   },
   "file_extension": ".py",
   "mimetype": "text/x-python",
   "name": "python",
   "nbconvert_exporter": "python",
   "pygments_lexer": "ipython3",
   "version": "3.9.12"
  }
 },
 "nbformat": 4,
 "nbformat_minor": 5
}
