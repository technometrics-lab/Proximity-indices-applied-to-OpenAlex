{
 "cells": [
  {
   "cell_type": "code",
   "execution_count": 1,
   "id": "867c9a2b",
   "metadata": {},
   "outputs": [],
   "source": [
    "import pandas as pd\n",
    "import time\n",
    "import pickle\n",
    "from tqdm import tqdm\n",
    "import math\n",
    "from myfunctions import creating_dfcit_byauthors_full"
   ]
  },
  {
   "cell_type": "code",
   "execution_count": 2,
   "id": "0b3dc939",
   "metadata": {},
   "outputs": [],
   "source": [
    "infile_data_full = open('../exploratory_analysis/data_exploratory_analysis/df_full_cleaned','rb')\n",
    "df_full = pickle.load(infile_data_full)\n",
    "infile_data_full.close()"
   ]
  },
  {
   "cell_type": "code",
   "execution_count": 3,
   "id": "ea7517fe",
   "metadata": {},
   "outputs": [],
   "source": [
    "df_full = df_full[['paper','author']]\n",
    "df_full = df_full.drop_duplicates()"
   ]
  },
  {
   "cell_type": "code",
   "execution_count": 4,
   "id": "d5b7b82e",
   "metadata": {},
   "outputs": [],
   "source": [
    "infile_citations = open('data_creation_variables/finaldicocitation','rb')\n",
    "dfcitations = pickle.load(infile_citations)\n",
    "infile_citations.close()"
   ]
  },
  {
   "cell_type": "code",
   "execution_count": 5,
   "id": "ed4b0599",
   "metadata": {},
   "outputs": [],
   "source": [
    "listpapers = list(set(df_full.paper.tolist()))"
   ]
  },
  {
   "cell_type": "code",
   "execution_count": 6,
   "id": "e750f751",
   "metadata": {},
   "outputs": [],
   "source": [
    "# this dico will help me to make the links between the two dicos\n",
    "# finaldicocitation and finaldicoauthors\n",
    "\n",
    "# I fill my dico finaldicocitation in order to get my dataframe later"
   ]
  },
  {
   "cell_type": "code",
   "execution_count": 7,
   "id": "3e16a849",
   "metadata": {},
   "outputs": [],
   "source": [
    "numberofpapers=len(listpapers)\n",
    "fractionnumber=100"
   ]
  },
  {
   "cell_type": "code",
   "execution_count": 8,
   "id": "743a58d8",
   "metadata": {},
   "outputs": [],
   "source": [
    "list_listpaper=[]"
   ]
  },
  {
   "cell_type": "code",
   "execution_count": 9,
   "id": "ae966c29",
   "metadata": {},
   "outputs": [
    {
     "name": "stderr",
     "output_type": "stream",
     "text": [
      "100%|█████████████████████████████████████████████████████████████████████████████| 100/100 [00:00<00:00, 50333.66it/s]\n"
     ]
    }
   ],
   "source": [
    "for i in tqdm(range(fractionnumber)):\n",
    "    start = i*math.floor(numberofpapers/fractionnumber)\n",
    "    end = (i+1)*math.floor(numberofpapers/fractionnumber)\n",
    "    if i == fractionnumber-1:\n",
    "        mypapers = listpapers[start:]\n",
    "    else:\n",
    "        mypapers = listpapers[start:end]\n",
    "    list_listpaper.append(mypapers)"
   ]
  },
  {
   "cell_type": "code",
   "execution_count": 10,
   "id": "41fad06f",
   "metadata": {},
   "outputs": [],
   "source": [
    "listindex= [0,20,40,60,80,100]"
   ]
  },
  {
   "cell_type": "code",
   "execution_count": 11,
   "id": "5b511cf3",
   "metadata": {},
   "outputs": [],
   "source": [
    "items = ['paper', 'author', 'year', 'month', 'cituptothistime_year','cituptothistime_month', 'citforthemonth', 'citfortheyear']"
   ]
  },
  {
   "cell_type": "code",
   "execution_count": null,
   "id": "8f9cea1e",
   "metadata": {},
   "outputs": [],
   "source": [
    "for j in range(5):\n",
    "    finalauthorcitation = {'paper': [],\n",
    "                           'author': [],\n",
    "                           'year': [],\n",
    "                           'month': [],\n",
    "                           'cituptothistime_year': [],\n",
    "                           'cituptothistime_month': [],\n",
    "                           'citforthemonth': [],\n",
    "                           'citfortheyear': []}\n",
    "    list_listpaper_compute=list_listpaper[listindex[j]:listindex[j+1]]\n",
    "    list_df = list(map(lambda x: creating_dfcit_byauthors_full(x,df_full,dfcitations), tqdm(list_listpaper_compute)))\n",
    "    for element in list_df:\n",
    "        for item in items:\n",
    "            mynewlist = element[item].tolist()\n",
    "            finalauthorcitation[item] = finalauthorcitation[item] + mynewlist\n",
    "    newfile = pd.DataFrame(finalauthorcitation)\n",
    "    newfile.to_pickle('data_creation_variables/finalauthorcitation'+str(j))"
   ]
  },
  {
   "cell_type": "code",
   "execution_count": null,
   "id": "19686332",
   "metadata": {},
   "outputs": [],
   "source": [
    "finalauthorcitation = {'paper': [],\n",
    "                       'author': [],\n",
    "                       'year': [],\n",
    "                       'month': [],\n",
    "                       'cituptothistime_year': [],\n",
    "                       'cituptothistime_month': [],\n",
    "                       'citforthemonth': [],\n",
    "                       'citfortheyear': []}"
   ]
  },
  {
   "cell_type": "code",
   "execution_count": null,
   "id": "46fcdb91",
   "metadata": {},
   "outputs": [],
   "source": [
    "for j in range(5):\n",
    "    with open('data_creation_variables/finalauthorcitation'+str(j), 'rb') as f:\n",
    "        dfdicocit = pickle.load(f)\n",
    "    for item in items:\n",
    "        mynewlist = dfdicocit[item].tolist()\n",
    "        finalauthorcitation[item] = finalauthorcitation[item] + mynewlist"
   ]
  },
  {
   "cell_type": "code",
   "execution_count": null,
   "id": "1eaf4a2f",
   "metadata": {},
   "outputs": [],
   "source": [
    "newfile = pd.DataFrame(finalauthorcitation)"
   ]
  },
  {
   "cell_type": "code",
   "execution_count": null,
   "id": "ea1d2066",
   "metadata": {},
   "outputs": [],
   "source": [
    "del dfdicocit\n",
    "del finalauthorcitation\n",
    "del df_full\n",
    "del dfcitations"
   ]
  },
  {
   "cell_type": "code",
   "execution_count": null,
   "id": "0f85c409",
   "metadata": {},
   "outputs": [],
   "source": [
    "file_to_download = newfile.explode(['author'])\n",
    "file_to_download.to_pickle('data_creation_variables/finalauthorcitation')"
   ]
  }
 ],
 "metadata": {
  "kernelspec": {
   "display_name": "Python 3 (ipykernel)",
   "language": "python",
   "name": "python3"
  },
  "language_info": {
   "codemirror_mode": {
    "name": "ipython",
    "version": 3
   },
   "file_extension": ".py",
   "mimetype": "text/x-python",
   "name": "python",
   "nbconvert_exporter": "python",
   "pygments_lexer": "ipython3",
   "version": "3.9.12"
  }
 },
 "nbformat": 4,
 "nbformat_minor": 5
}
