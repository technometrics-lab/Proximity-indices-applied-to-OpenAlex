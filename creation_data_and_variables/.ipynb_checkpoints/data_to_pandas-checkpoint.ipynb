{
 "cells": [
  {
   "cell_type": "markdown",
   "id": "49df24ab",
   "metadata": {},
   "source": [
    "# Transforming raw data to pandas dataframe"
   ]
  },
  {
   "cell_type": "markdown",
   "id": "cfc4e788",
   "metadata": {},
   "source": [
    "_Foreword_\n",
    "\n",
    "The goal of this notebook is to transform the filtered data into a pandas dataframe, which will be much easier to handle in further computations."
   ]
  },
  {
   "cell_type": "markdown",
   "id": "107abccc",
   "metadata": {},
   "source": [
    "I import the modules and functions I will need later."
   ]
  },
  {
   "cell_type": "code",
   "execution_count": 1,
   "id": "8cf67638",
   "metadata": {},
   "outputs": [],
   "source": [
    "import json\n",
    "from tqdm import tqdm\n",
    "import pandas as pd\n",
    "from myfunctions import recreation_abstract,compute_list_score,get_authors,\\\n",
    "    dicowithfilteredref,get_references,get_citing_works\n",
    "import time\n",
    "import pickle\n",
    "import math"
   ]
  },
  {
   "cell_type": "markdown",
   "id": "49933b16",
   "metadata": {},
   "source": [
    "I download the filtered data, I scrapped from OpenAlex."
   ]
  },
  {
   "cell_type": "code",
   "execution_count": 2,
   "id": "1246f783",
   "metadata": {},
   "outputs": [],
   "source": [
    "infile_filtered_data = open('data_creation_variables/filtered_data','rb')\n",
    "filtered_data = pickle.load(infile_filtered_data)\n",
    "infile_filtered_data.close()"
   ]
  },
  {
   "cell_type": "markdown",
   "id": "5b3c3a4d",
   "metadata": {},
   "source": [
    "Again, here are the concepts I am interested in, with their OpenAlex ids."
   ]
  },
  {
   "cell_type": "code",
   "execution_count": 3,
   "id": "a633e033",
   "metadata": {},
   "outputs": [],
   "source": [
    "concept_ids = {\n",
    "    'Authentication protocole': 'C21564112',\n",
    "    'Biometrics': 'C184297639',\n",
    "    'Blockchain': 'C2779687700',\n",
    "    # 'Database Encryption': '',\n",
    "    'Differential Privacy': 'C23130292',\n",
    "    'Digital rights management': 'C537843408',\n",
    "    'Digital signature': 'C118463975',\n",
    "    'Disk Encryption': 'C9368797',\n",
    "    'Distributed algorithm': 'C130120984',\n",
    "    'Electronic voting': 'C2780612046',\n",
    "    # 'Email encryption': '',\n",
    "    'Functional encryption': 'C2780746774',\n",
    "    'Hardware acceleration': 'C13164978',\n",
    "    'Hardware security module': 'C39217717',\n",
    "    'Hash function': 'C99138194',\n",
    "    'Homomorphic encryption': 'C158338273',\n",
    "    'Identity management': 'C555379026',\n",
    "    # 'Identity-based encryption': '',\n",
    "    'Key management': 'C17886624',\n",
    "    'Link encryption': 'C69254412',\n",
    "    'Post-quantum cryptography': 'C108277079',\n",
    "    # 'Private set intersection': '',\n",
    "    'Public-key cryptography': 'C203062551',\n",
    "    'Quantum key distribution': 'C95466800',\n",
    "    'Quantum cryptography': 'C144901912',\n",
    "    'Random number generation': 'C201866948',\n",
    "    # 'Searchable symmetric encryption': '',\n",
    "    'Symmetric-key algorithm': 'C65302260',\n",
    "    'Threshold cryptosystem': 'C123744220',\n",
    "    'Trusted Computing': 'C2776831232',\n",
    "    # 'Trusted execution environment': '',\n",
    "    'Tunneling protocol': 'C76885553',\n",
    "    'Zero-knowlegde proof': 'C176329583'}"
   ]
  },
  {
   "cell_type": "code",
   "execution_count": 4,
   "id": "4d9d47cd",
   "metadata": {},
   "outputs": [],
   "source": [
    "mylistofconcepts = []\n",
    "# creating an empty dico that I will use later\n",
    "\n",
    "for concept, concept_id in concept_ids.items():\n",
    "    mylistofconcepts.append(concept)"
   ]
  },
  {
   "cell_type": "markdown",
   "id": "92195819",
   "metadata": {},
   "source": [
    "I keep only the referenced works that belongs to my set of papers, which means the papers published between 2002 and 2022 and which are related to encryption technologies. This is what the function below \"dicowithfilteredref\" does."
   ]
  },
  {
   "cell_type": "code",
   "execution_count": 5,
   "id": "0233c8c7",
   "metadata": {},
   "outputs": [],
   "source": [
    "helpdico= dicowithfilteredref(filtered_data)"
   ]
  },
  {
   "cell_type": "markdown",
   "id": "5b2d5077",
   "metadata": {},
   "source": [
    "I do now prepare a dictionary that I will turn into a dataframe. To do so, I compute all the lists, I will use later."
   ]
  },
  {
   "cell_type": "code",
   "execution_count": 6,
   "id": "01a46623",
   "metadata": {},
   "outputs": [],
   "source": [
    "fulldata_df = {}"
   ]
  },
  {
   "cell_type": "markdown",
   "id": "486c84fd",
   "metadata": {},
   "source": [
    "We create a list of abstracts, recreating the abstracts of the list of words we got with their position in the abstract."
   ]
  },
  {
   "cell_type": "code",
   "execution_count": 7,
   "id": "4b045c0e",
   "metadata": {},
   "outputs": [],
   "source": [
    "abstract_list = list(map(recreation_abstract, filtered_data['abstract_inverted_index']))"
   ]
  },
  {
   "cell_type": "markdown",
   "id": "40ee41f5",
   "metadata": {},
   "source": [
    "We create a list of authors, from the list of information we have got about authors ."
   ]
  },
  {
   "cell_type": "code",
   "execution_count": 8,
   "id": "b9c6a86b",
   "metadata": {},
   "outputs": [],
   "source": [
    "authors_list = list(map(get_authors, filtered_data['authorships']))"
   ]
  },
  {
   "cell_type": "markdown",
   "id": "8b5c3a28",
   "metadata": {},
   "source": [
    "We create a list of references (with their OpenAlex ids), from the information we've got, taking only the references to the papers we consider."
   ]
  },
  {
   "cell_type": "code",
   "execution_count": 9,
   "id": "d856ba1f",
   "metadata": {},
   "outputs": [
    {
     "name": "stderr",
     "output_type": "stream",
     "text": [
      "100%|█████████████████████████████████████████████████████████████████████| 285716/285716 [00:00<00:00, 2068915.10it/s]\n"
     ]
    }
   ],
   "source": [
    "references_list = list(map(lambda x: get_references(x, helpdico), tqdm(filtered_data['id'])))"
   ]
  },
  {
   "cell_type": "markdown",
   "id": "d7870bd4",
   "metadata": {},
   "source": [
    "We create a list, containing a list of scores of attribution to all concepts related to each paper."
   ]
  },
  {
   "cell_type": "code",
   "execution_count": 10,
   "id": "f068bd8f",
   "metadata": {},
   "outputs": [],
   "source": [
    "scores_list = list(map(compute_list_score, filtered_data['concepts']))"
   ]
  },
  {
   "cell_type": "markdown",
   "id": "d0f19822",
   "metadata": {},
   "source": [
    "I add all the information I am interested in to make a dataframe out of it."
   ]
  },
  {
   "cell_type": "code",
   "execution_count": 11,
   "id": "46d830ad",
   "metadata": {},
   "outputs": [],
   "source": [
    "fulldata_df['id']=filtered_data['id']\n",
    "fulldata_df['title']=filtered_data['title']\n",
    "fulldata_df['publication_date']=filtered_data['publication_date']\n",
    "fulldata_df['author']=authors_list\n",
    "fulldata_df['referenced_works']=references_list\n",
    "fulldata_df['abstract']=abstract_list\n",
    "fulldata_df['concepts']=len(filtered_data['id'])*[mylistofconcepts]\n",
    "fulldata_df['score_concepts']=scores_list\n",
    "fulldata_df['year']=filtered_data['year']\n",
    "fulldata_df['month']=filtered_data['month']"
   ]
  },
  {
   "cell_type": "code",
   "execution_count": 12,
   "id": "a5bb20a9",
   "metadata": {},
   "outputs": [],
   "source": [
    "df_full = pd.DataFrame(fulldata_df)"
   ]
  },
  {
   "cell_type": "code",
   "execution_count": 13,
   "id": "c16a3cd1",
   "metadata": {},
   "outputs": [
    {
     "name": "stdout",
     "output_type": "stream",
     "text": [
      "In my dataset, there are 285716 papers.\n"
     ]
    }
   ],
   "source": [
    "print('In my dataset, there are '+str(len(list(set(df_full.id.tolist()))))+' papers.')"
   ]
  },
  {
   "cell_type": "markdown",
   "id": "6cfce3e5",
   "metadata": {},
   "source": [
    "I save this version of df_full, because I will use later in some computation."
   ]
  },
  {
   "cell_type": "code",
   "execution_count": 14,
   "id": "60f81fde",
   "metadata": {},
   "outputs": [],
   "source": [
    "df_full_notexploded = df_full\n",
    "df_full_notexploded.to_pickle('data_creation_variables/df_full_notexploded')"
   ]
  },
  {
   "cell_type": "markdown",
   "id": "c54ec6c6",
   "metadata": {},
   "source": [
    "I explode all the columns to obtain a dataframe without lists in its cells and I save this dataframe."
   ]
  },
  {
   "cell_type": "code",
   "execution_count": 15,
   "id": "6dd971d5",
   "metadata": {},
   "outputs": [],
   "source": [
    "# I do not explode that in order to avoid memory errors\n",
    "df_full =df_full.explode('author')\n",
    "df_full =df_full.explode('referenced_works')\n",
    "df_full =df_full.explode(['concepts', 'score_concepts'])"
   ]
  },
  {
   "cell_type": "code",
   "execution_count": 16,
   "id": "01308ea2",
   "metadata": {},
   "outputs": [],
   "source": [
    "df_full.to_pickle('data_creation_variables/df_full')"
   ]
  },
  {
   "cell_type": "code",
   "execution_count": null,
   "id": "45d5c802",
   "metadata": {},
   "outputs": [],
   "source": []
  }
 ],
 "metadata": {
  "kernelspec": {
   "display_name": "Python 3 (ipykernel)",
   "language": "python",
   "name": "python3"
  },
  "language_info": {
   "codemirror_mode": {
    "name": "ipython",
    "version": 3
   },
   "file_extension": ".py",
   "mimetype": "text/x-python",
   "name": "python",
   "nbconvert_exporter": "python",
   "pygments_lexer": "ipython3",
   "version": "3.9.12"
  }
 },
 "nbformat": 4,
 "nbformat_minor": 5
}
