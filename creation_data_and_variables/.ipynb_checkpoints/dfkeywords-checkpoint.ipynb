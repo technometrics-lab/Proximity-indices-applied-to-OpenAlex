{
 "cells": [
  {
   "cell_type": "code",
   "execution_count": null,
   "id": "34b1de54",
   "metadata": {},
   "outputs": [],
   "source": [
    "from myfunctions import get_keywords,get_dico_keywords, get_cos_sim, get_keyword,clean_text\n",
    "import pandas as pd\n",
    "import pickle\n",
    "from tqdm import tqdm\n",
    "import math"
   ]
  },
  {
   "cell_type": "code",
   "execution_count": null,
   "id": "a9543746",
   "metadata": {},
   "outputs": [],
   "source": [
    "myyears = [2002,2003,2004,2005,2006,2007,2008,2009,2010,2011,2012,2013,2014,2015,2016,2017,2018,2019,2020,2021,2022]\n",
    "mymonths = ['January', 'February', 'March', 'April', 'May', 'June', 'July',\\\n",
    "           'August', 'September', 'October', 'November', 'December']"
   ]
  },
  {
   "cell_type": "code",
   "execution_count": null,
   "id": "89710db0",
   "metadata": {},
   "outputs": [],
   "source": [
    "# I do a list of paper such that I can count every paper only once\n",
    "\n",
    "infile_filtered_data = open('data_creation_variables/filtered_data','rb')\n",
    "filtered_data = pickle.load(infile_filtered_data)\n",
    "infile_filtered_data.close()"
   ]
  },
  {
   "cell_type": "code",
   "execution_count": null,
   "id": "81bae8b6",
   "metadata": {},
   "outputs": [],
   "source": [
    "infile_data_full = open('../exploratory_analysis/data_exploratory_analysis/df_full_cleaned','rb')\n",
    "df_full = pickle.load(infile_data_full)\n",
    "infile_data_full.close()"
   ]
  },
  {
   "cell_type": "code",
   "execution_count": null,
   "id": "81f888a9",
   "metadata": {},
   "outputs": [],
   "source": [
    "items = ['paper','keyword','cosine_similarity','publication_date','year','month']"
   ]
  },
  {
   "cell_type": "code",
   "execution_count": null,
   "id": "08d45993",
   "metadata": {},
   "outputs": [],
   "source": [
    "dicokeywords = {'paper':[],\n",
    "                'keyword':[],\n",
    "                'cosine_similarity':[],\n",
    "                'publication_date':[],\n",
    "                'year':[],\n",
    "                'month':[]}"
   ]
  },
  {
   "cell_type": "code",
   "execution_count": null,
   "id": "a34820d2",
   "metadata": {},
   "outputs": [],
   "source": [
    "df_full = df_full[['paper','title','publication_date','year','month','abstract']]\n",
    "df_full = df_full.drop_duplicates()"
   ]
  },
  {
   "cell_type": "code",
   "execution_count": null,
   "id": "e959a97f",
   "metadata": {},
   "outputs": [],
   "source": [
    "listpaper_first = list(set(df_full.paper.tolist()))"
   ]
  },
  {
   "cell_type": "code",
   "execution_count": null,
   "id": "f440afc7",
   "metadata": {},
   "outputs": [],
   "source": [
    "dicokeywords = {'paper': [],\n",
    "                    'keyword': [],\n",
    "                    'cosine_similarity': [],\n",
    "                    'publication_date': [],\n",
    "                    'year': [],\n",
    "                    'month': []}"
   ]
  },
  {
   "cell_type": "code",
   "execution_count": null,
   "id": "2220fd17",
   "metadata": {},
   "outputs": [],
   "source": [
    "fractioning_number = 100"
   ]
  },
  {
   "cell_type": "code",
   "execution_count": null,
   "id": "9a295d29",
   "metadata": {},
   "outputs": [],
   "source": [
    "for j in range(5):\n",
    "    list_listkeywords = []\n",
    "    list_listcosim = []\n",
    "    step = int(math.floor(len(listpaper_first)/ 5))\n",
    "    start = j * step\n",
    "    if j == 4:\n",
    "        end = len(listpaper_first)\n",
    "    else:\n",
    "        end = (j + 1) * step\n",
    "    listpaper = listpaper_first[start:end]\n",
    "    for i in tqdm(range(fractioning_number)):\n",
    "        step = int(math.floor(len(listpaper) / fractioning_number))\n",
    "        start = i*step\n",
    "        end = (i+1)*step\n",
    "        if i == fractioning_number-1:\n",
    "            end = len(listpaper)\n",
    "        restricted_listpaper=listpaper[start:end]\n",
    "        mypapers =df_full[df_full['paper'].isin(restricted_listpaper)].copy()\n",
    "        for paper in restricted_listpaper:\n",
    "            myinfos = mypapers.loc[mypapers['paper']==paper].copy()\n",
    "            abstract = list(set(myinfos.abstract.tolist()))\n",
    "            title = list(set(myinfos.title.tolist()))\n",
    "            text = str(title[0] + abstract[0])\n",
    "\n",
    "            text_c = clean_text(text)\n",
    "\n",
    "            # this functions get_keyword take 99.99% of the running time for each loop\n",
    "            mykeywords = get_keyword(text_c)\n",
    "\n",
    "            numberkeywords = len(mykeywords)\n",
    "\n",
    "            # actually mykeywords is a list of tuples\n",
    "            # I take every element of the list and then I take the\n",
    "            # elements of the tuple I am interested in.\n",
    "            listkeywords = []\n",
    "            listcosim=[]\n",
    "            for y in range(numberkeywords):\n",
    "                infomykey = mykeywords[y]\n",
    "                listkeywords.append(infomykey[0])\n",
    "                listcosim.append(infomykey[1])\n",
    "            list_listkeywords.append(listkeywords)\n",
    "            list_listcosim.append(listcosim)\n",
    "            # saving my list of author for further purposes\n",
    "    with open(\"data_creation_variables/list_listkeywords\"+str(j), \"wb\") as fp:  # Pickling\n",
    "        pickle.dump(list_listkeywords, fp)\n",
    "    with open(\"data_creation_variables/list_listcosim\"+str(j), \"wb\") as fp:  # Pickling\n",
    "        pickle.dump(list_listcosim, fp)"
   ]
  },
  {
   "cell_type": "code",
   "execution_count": null,
   "id": "bcc733aa",
   "metadata": {},
   "outputs": [],
   "source": [
    "list_keywords = []\n",
    "list_cosim = []\n",
    "for j in range(5):\n",
    "    with open(\"data_creation_variables/list_listkeywords\"+str(j), 'rb') as f:\n",
    "        list_keywords=list_keywords+pickle.load(f)\n",
    "    with open(\"data_creation_variables/list_listcosim\"+str(j), 'rb') as f:\n",
    "        list_cosim = list_cosim + pickle.load(f)"
   ]
  },
  {
   "cell_type": "code",
   "execution_count": null,
   "id": "21962ad4",
   "metadata": {},
   "outputs": [],
   "source": [
    "df_full = df_full[['paper','publication_date','year','month']]"
   ]
  },
  {
   "cell_type": "code",
   "execution_count": null,
   "id": "361783b4",
   "metadata": {},
   "outputs": [],
   "source": [
    "def get_publication_date(paper,df_full):\n",
    "    df = df_full.loc[df_full['paper']==paper].copy()\n",
    "    listinfo = df.publication_date.tolist()\n",
    "    return listinfo[0]"
   ]
  },
  {
   "cell_type": "code",
   "execution_count": null,
   "id": "ae7d0e9a",
   "metadata": {},
   "outputs": [],
   "source": [
    "def get_year(paper,df_full):\n",
    "    df = df_full.loc[df_full['paper']==paper].copy()\n",
    "    listinfo = df.year.tolist()\n",
    "    return listinfo[0]"
   ]
  },
  {
   "cell_type": "code",
   "execution_count": null,
   "id": "0e461530",
   "metadata": {},
   "outputs": [],
   "source": [
    "def get_month(paper,df_full):\n",
    "    df = df_full.loc[df_full['paper']==paper].copy()\n",
    "    listinfo = df.month.tolist()\n",
    "    return listinfo[0]"
   ]
  },
  {
   "cell_type": "code",
   "execution_count": null,
   "id": "416d8658",
   "metadata": {},
   "outputs": [],
   "source": [
    "publication_list = list(map(lambda x: get_publication_date(x, df_full), tqdm(listpaper_first)))\n",
    "month_list = list(map(lambda x: get_month(x, df_full), tqdm(listpaper_first)))\n",
    "year_list = list(map(lambda x: get_year(x, df_full), tqdm(listpaper_first)))"
   ]
  },
  {
   "cell_type": "code",
   "execution_count": null,
   "id": "f9e3476c",
   "metadata": {},
   "outputs": [],
   "source": [
    "dicokeywords['keyword']=list_keywords\n",
    "dicokeywords['cosine_similarity']= list_cosim\n",
    "dicokeywords['paper']=listpaper_first\n",
    "dicokeywords['publication_date']=publication_list\n",
    "dicokeywords['year']=year_list\n",
    "dicokeywords['month']=month_list"
   ]
  },
  {
   "cell_type": "code",
   "execution_count": null,
   "id": "c084e4f6",
   "metadata": {},
   "outputs": [],
   "source": [
    "dfkeywords = pd.DataFrame(dicokeywords)"
   ]
  },
  {
   "cell_type": "code",
   "execution_count": null,
   "id": "8b1a7e62",
   "metadata": {},
   "outputs": [],
   "source": [
    "dfkeywords =dfkeywords.explode(['keyword', 'cosine_similarity'])"
   ]
  },
  {
   "cell_type": "code",
   "execution_count": null,
   "id": "ec847240",
   "metadata": {},
   "outputs": [],
   "source": [
    "dfkeywords.to_pickle('data_creation_variables/dfkeywords')"
   ]
  }
 ],
 "metadata": {
  "kernelspec": {
   "display_name": "Python 3 (ipykernel)",
   "language": "python",
   "name": "python3"
  },
  "language_info": {
   "codemirror_mode": {
    "name": "ipython",
    "version": 3
   },
   "file_extension": ".py",
   "mimetype": "text/x-python",
   "name": "python",
   "nbconvert_exporter": "python",
   "pygments_lexer": "ipython3",
   "version": "3.9.12"
  }
 },
 "nbformat": 4,
 "nbformat_minor": 5
}
