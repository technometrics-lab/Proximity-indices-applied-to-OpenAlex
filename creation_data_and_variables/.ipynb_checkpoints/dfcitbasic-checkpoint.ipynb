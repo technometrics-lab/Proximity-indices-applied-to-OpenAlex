{
 "cells": [
  {
   "cell_type": "markdown",
   "id": "8364e69e",
   "metadata": {},
   "source": [
    "# Creation basic dataframe of citation"
   ]
  },
  {
   "cell_type": "code",
   "execution_count": null,
   "id": "6636cbef",
   "metadata": {},
   "outputs": [],
   "source": [
    "import json\n",
    "from tqdm import tqdm\n",
    "import pandas as pd\n",
    "import pickle\n",
    "import math\n",
    "from myfunctions import create_cit_basic"
   ]
  },
  {
   "cell_type": "code",
   "execution_count": null,
   "id": "2996150d",
   "metadata": {},
   "outputs": [],
   "source": [
    "infile_data_full = open('../exploratory_analysis/data_exploratory_analysis/df_full_cleaned','rb')\n",
    "df_full = pickle.load(infile_data_full)\n",
    "infile_data_full.close()"
   ]
  },
  {
   "cell_type": "code",
   "execution_count": null,
   "id": "7a15aa3c",
   "metadata": {},
   "outputs": [],
   "source": [
    "listpapers = list(set(df_full.paper.tolist()))\n",
    "\n",
    "numberofpapers= len(listpapers)\n",
    "fractionnumber = 200"
   ]
  },
  {
   "cell_type": "code",
   "execution_count": null,
   "id": "0fc26f4c",
   "metadata": {},
   "outputs": [],
   "source": [
    "items = ['citing_paper','cited_paper','publication_date','month','year']"
   ]
  },
  {
   "cell_type": "code",
   "execution_count": null,
   "id": "aed71c2e",
   "metadata": {},
   "outputs": [],
   "source": [
    "mycitationdico = {'citing_paper': [],\n",
    "                      'cited_paper': [],\n",
    "                      'publication_date': [],\n",
    "                      'month': [],\n",
    "                      'year': []\n",
    "                      }"
   ]
  },
  {
   "cell_type": "code",
   "execution_count": null,
   "id": "8c40270d",
   "metadata": {},
   "outputs": [],
   "source": [
    "df_full = df_full[[\"paper\", \"referenced_works\",\"publication_date\",'month','year']]\n",
    "df_full = df_full.drop_duplicates()"
   ]
  },
  {
   "cell_type": "code",
   "execution_count": null,
   "id": "a922dfaf",
   "metadata": {},
   "outputs": [],
   "source": [
    "df_full = df_full.set_index(\"paper\")"
   ]
  },
  {
   "cell_type": "code",
   "execution_count": null,
   "id": "365e3ecb",
   "metadata": {},
   "outputs": [],
   "source": [
    "for i in tqdm(range(fractionnumber)):\n",
    "    start = i*math.floor(numberofpapers/fractionnumber)\n",
    "    end = (i+1)*math.floor(numberofpapers/fractionnumber)\n",
    "    if i == fractionnumber-1:\n",
    "        mypapers = listpapers[start:]\n",
    "    else:\n",
    "        mypapers = listpapers[start:end]\n",
    "    newdf = create_cit_basic(mypapers,df_full)\n",
    "    # I drop these rows in order for the future computations to be faster\n",
    "    # in any case the proper file will not be impacted, since it is still registered\n",
    "    # on my hardware\n",
    "    for item in items:\n",
    "        mycitationdico[item]=mycitationdico[item]+newdf[item]"
   ]
  },
  {
   "cell_type": "code",
   "execution_count": null,
   "id": "29156ec9",
   "metadata": {},
   "outputs": [],
   "source": [
    "dfcitbasic = pd.DataFrame(mycitationdico)"
   ]
  },
  {
   "cell_type": "code",
   "execution_count": null,
   "id": "9f4dc137",
   "metadata": {},
   "outputs": [],
   "source": [
    "dfcitbasic.to_pickle('data_creation_variables/dfcitbasic')"
   ]
  }
 ],
 "metadata": {
  "kernelspec": {
   "display_name": "Python 3 (ipykernel)",
   "language": "python",
   "name": "python3"
  },
  "language_info": {
   "codemirror_mode": {
    "name": "ipython",
    "version": 3
   },
   "file_extension": ".py",
   "mimetype": "text/x-python",
   "name": "python",
   "nbconvert_exporter": "python",
   "pygments_lexer": "ipython3",
   "version": "3.9.12"
  }
 },
 "nbformat": 4,
 "nbformat_minor": 5
}
