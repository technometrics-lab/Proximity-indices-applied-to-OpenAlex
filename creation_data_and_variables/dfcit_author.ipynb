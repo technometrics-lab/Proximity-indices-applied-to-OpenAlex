{
 "cells": [
  {
   "cell_type": "markdown",
   "id": "2ba425d7",
   "metadata": {},
   "source": [
    "# Creation dataframe of citation with author"
   ]
  },
  {
   "cell_type": "markdown",
   "id": "449ebfa4",
   "metadata": {},
   "source": [
    "_Foreword_\n",
    "\n",
    "The goal of this notebook is to create a pandas dataframe, add a column containing the authors to the pandas dataframe created in the previous file (dffinalcit). This pandas dataframe contained for each paper, different count of citation (such as citations up to this month/year, citations for the year/month) coming from papers related to encryption technologies and published from 2002 to 2022."
   ]
  },
  {
   "cell_type": "markdown",
   "id": "d0bbe344",
   "metadata": {},
   "source": [
    "Importing the necessary libraries."
   ]
  },
  {
   "cell_type": "code",
   "execution_count": 1,
   "id": "e1ad815c",
   "metadata": {},
   "outputs": [],
   "source": [
    "import pandas as pd\n",
    "import time\n",
    "import pickle\n",
    "from tqdm import tqdm\n",
    "import math\n",
    "from myfunctions import creating_dfcit_byauthors_full"
   ]
  },
  {
   "cell_type": "markdown",
   "id": "de4ca069",
   "metadata": {},
   "source": [
    "Importing df_full_cleaned, that was cleaned and processed by the file \"dataexploration_full_data\" and finaldicocitation."
   ]
  },
  {
   "cell_type": "code",
   "execution_count": 2,
   "id": "0b3dc939",
   "metadata": {},
   "outputs": [],
   "source": [
    "infile_data_full = open('../exploratory_analysis/data_exploratory_analysis/df_full_cleaned','rb')\n",
    "df_full = pickle.load(infile_data_full)\n",
    "infile_data_full.close()"
   ]
  },
  {
   "cell_type": "code",
   "execution_count": 3,
   "id": "d5b7b82e",
   "metadata": {},
   "outputs": [],
   "source": [
    "infile_citations = open('data_creation_variables/finaldicocitation','rb')\n",
    "dfcitations = pickle.load(infile_citations)\n",
    "infile_citations.close()"
   ]
  },
  {
   "cell_type": "markdown",
   "id": "01e1c97d",
   "metadata": {},
   "source": [
    "Defining some variables for further computations."
   ]
  },
  {
   "cell_type": "code",
   "execution_count": 4,
   "id": "98f3a4fd",
   "metadata": {},
   "outputs": [],
   "source": [
    "df_full = df_full[['paper','author']]\n",
    "df_full = df_full.drop_duplicates()"
   ]
  },
  {
   "cell_type": "code",
   "execution_count": 5,
   "id": "ed4b0599",
   "metadata": {},
   "outputs": [],
   "source": [
    "listpapers = list(set(df_full.paper.tolist()))"
   ]
  },
  {
   "cell_type": "code",
   "execution_count": 6,
   "id": "3e16a849",
   "metadata": {},
   "outputs": [],
   "source": [
    "numberofpapers=len(listpapers)\n",
    "fractionnumber=100"
   ]
  },
  {
   "cell_type": "code",
   "execution_count": 7,
   "id": "743a58d8",
   "metadata": {},
   "outputs": [],
   "source": [
    "list_listpaper=[]"
   ]
  },
  {
   "cell_type": "markdown",
   "id": "6373737c",
   "metadata": {},
   "source": [
    "Just as in the other notebook, I divide the data into smaller subsets, to process it faster."
   ]
  },
  {
   "cell_type": "code",
   "execution_count": 8,
   "id": "ae966c29",
   "metadata": {},
   "outputs": [],
   "source": [
    "for i in range(fractionnumber):\n",
    "    start = i*math.floor(numberofpapers/fractionnumber)\n",
    "    end = (i+1)*math.floor(numberofpapers/fractionnumber)\n",
    "    if i == fractionnumber-1:\n",
    "        mypapers = listpapers[start:]\n",
    "    else:\n",
    "        mypapers = listpapers[start:end]\n",
    "    list_listpaper.append(mypapers)"
   ]
  },
  {
   "cell_type": "code",
   "execution_count": 9,
   "id": "41fad06f",
   "metadata": {},
   "outputs": [],
   "source": [
    "listindex= [0,20,40,60,80,100]"
   ]
  },
  {
   "cell_type": "code",
   "execution_count": 10,
   "id": "5b511cf3",
   "metadata": {},
   "outputs": [],
   "source": [
    "items = ['paper', 'author', 'year', 'month', 'cituptothistime_year','cituptothistime_month', 'citforthemonth', 'citfortheyear']"
   ]
  },
  {
   "cell_type": "code",
   "execution_count": 11,
   "id": "8f9cea1e",
   "metadata": {},
   "outputs": [
    {
     "name": "stderr",
     "output_type": "stream",
     "text": [
      "100%|██████████████████████████████████████████████████████████████████████████████████| 20/20 [11:38<00:00, 34.92s/it]\n",
      "100%|██████████████████████████████████████████████████████████████████████████████████| 20/20 [11:37<00:00, 34.88s/it]\n",
      "100%|██████████████████████████████████████████████████████████████████████████████████| 20/20 [11:48<00:00, 35.43s/it]\n",
      "100%|██████████████████████████████████████████████████████████████████████████████████| 20/20 [11:44<00:00, 35.23s/it]\n",
      "100%|██████████████████████████████████████████████████████████████████████████████████| 20/20 [11:34<00:00, 34.72s/it]\n"
     ]
    }
   ],
   "source": [
    "# So for each sublist of paper I create a pandas dataframe with a count of citations and the author\n",
    "# Then I save this information.\n",
    "for j in range(5):\n",
    "    finalauthorcitation = {'paper': [],\n",
    "                           'author': [],\n",
    "                           'year': [],\n",
    "                           'month': [],\n",
    "                           'cituptothistime_year': [],\n",
    "                           'cituptothistime_month': [],\n",
    "                           'citforthemonth': [],\n",
    "                           'citfortheyear': []}\n",
    "    list_listpaper_compute=list_listpaper[listindex[j]:listindex[j+1]]\n",
    "    list_df = list(map(lambda x: creating_dfcit_byauthors_full(x,df_full,dfcitations), tqdm(list_listpaper_compute)))\n",
    "    for element in list_df:\n",
    "        for item in items:\n",
    "            mynewlist = element[item].tolist()\n",
    "            finalauthorcitation[item] = finalauthorcitation[item] + mynewlist\n",
    "    newfile = pd.DataFrame(finalauthorcitation)\n",
    "    newfile.to_pickle('data_creation_variables/finalauthorcitation'+str(j))"
   ]
  },
  {
   "cell_type": "markdown",
   "id": "b6b3fb00",
   "metadata": {},
   "source": [
    "Now that I've got 5 pandas dataframe with all the information I want and I put them all together."
   ]
  },
  {
   "cell_type": "code",
   "execution_count": 12,
   "id": "19686332",
   "metadata": {},
   "outputs": [],
   "source": [
    "finalauthorcitation = {'paper': [],\n",
    "                       'author': [],\n",
    "                       'year': [],\n",
    "                       'month': [],\n",
    "                       'cituptothistime_year': [],\n",
    "                       'cituptothistime_month': [],\n",
    "                       'citforthemonth': [],\n",
    "                       'citfortheyear': []}"
   ]
  },
  {
   "cell_type": "code",
   "execution_count": 13,
   "id": "46fcdb91",
   "metadata": {},
   "outputs": [],
   "source": [
    "for j in range(5):\n",
    "    with open('data_creation_variables/finalauthorcitation'+str(j), 'rb') as f:\n",
    "        dfdicocit = pickle.load(f)\n",
    "    for item in items:\n",
    "        mynewlist = dfdicocit[item].tolist()\n",
    "        finalauthorcitation[item] = finalauthorcitation[item] + mynewlist"
   ]
  },
  {
   "cell_type": "code",
   "execution_count": 14,
   "id": "1eaf4a2f",
   "metadata": {},
   "outputs": [],
   "source": [
    "newfile = pd.DataFrame(finalauthorcitation)"
   ]
  },
  {
   "cell_type": "markdown",
   "id": "b41cbfed",
   "metadata": {},
   "source": [
    "I delete all the files I do not use anymore and which are taking a lot of space in the memory."
   ]
  },
  {
   "cell_type": "code",
   "execution_count": 15,
   "id": "ea1d2066",
   "metadata": {},
   "outputs": [],
   "source": [
    "del dfdicocit\n",
    "del finalauthorcitation\n",
    "del df_full\n",
    "del dfcitations"
   ]
  },
  {
   "cell_type": "markdown",
   "id": "7e6c133e",
   "metadata": {},
   "source": [
    "I explode the column 'author' in order not to have lists in my cells anymore and I save my file."
   ]
  },
  {
   "cell_type": "code",
   "execution_count": 16,
   "id": "0f85c409",
   "metadata": {},
   "outputs": [],
   "source": [
    "file_to_download = newfile.explode(['author'])\n",
    "file_to_download.to_pickle('data_creation_variables/finalauthorcitation')"
   ]
  }
 ],
 "metadata": {
  "kernelspec": {
   "display_name": "Python 3 (ipykernel)",
   "language": "python",
   "name": "python3"
  },
  "language_info": {
   "codemirror_mode": {
    "name": "ipython",
    "version": 3
   },
   "file_extension": ".py",
   "mimetype": "text/x-python",
   "name": "python",
   "nbconvert_exporter": "python",
   "pygments_lexer": "ipython3",
   "version": "3.9.12"
  }
 },
 "nbformat": 4,
 "nbformat_minor": 5
}
