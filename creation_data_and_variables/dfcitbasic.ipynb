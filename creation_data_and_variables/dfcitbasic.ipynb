{
 "cells": [
  {
   "cell_type": "markdown",
   "id": "8364e69e",
   "metadata": {},
   "source": [
    "# Creation basic dataframe of citation"
   ]
  },
  {
   "cell_type": "markdown",
   "id": "e3a509c4",
   "metadata": {},
   "source": [
    "_Foreword_\n",
    "\n",
    "The goal of this notebook is to create a pandas dataframe, containing for each citing papers, the papers which are cited by this paper in addition to the publication date."
   ]
  },
  {
   "cell_type": "markdown",
   "id": "c869b5ef",
   "metadata": {},
   "source": [
    "Importing the necessary libraries."
   ]
  },
  {
   "cell_type": "code",
   "execution_count": 1,
   "id": "6636cbef",
   "metadata": {},
   "outputs": [],
   "source": [
    "import json\n",
    "from tqdm import tqdm\n",
    "import pandas as pd\n",
    "import pickle\n",
    "import math\n",
    "from myfunctions import create_cit_basic"
   ]
  },
  {
   "cell_type": "markdown",
   "id": "bbe4c1a1",
   "metadata": {},
   "source": [
    "Importing df_full_cleaned, that was cleaned and processed by the file \"dataexploration_full_data\"."
   ]
  },
  {
   "cell_type": "code",
   "execution_count": 2,
   "id": "2996150d",
   "metadata": {},
   "outputs": [],
   "source": [
    "infile_data_full = open('../exploratory_analysis/data_exploratory_analysis/df_full_cleaned','rb')\n",
    "df_full = pickle.load(infile_data_full)\n",
    "infile_data_full.close()"
   ]
  },
  {
   "cell_type": "code",
   "execution_count": 3,
   "id": "7a15aa3c",
   "metadata": {},
   "outputs": [],
   "source": [
    "# I want to divide my dataset in subsets to make everything run faster.\n",
    "listpapers = list(set(df_full.paper.tolist()))\n",
    "\n",
    "numberofpapers= len(listpapers)\n",
    "fractionnumber = 200"
   ]
  },
  {
   "cell_type": "code",
   "execution_count": 4,
   "id": "0fc26f4c",
   "metadata": {},
   "outputs": [],
   "source": [
    "items = ['citing_paper','cited_paper','publication_date','month','year']"
   ]
  },
  {
   "cell_type": "code",
   "execution_count": 5,
   "id": "aed71c2e",
   "metadata": {},
   "outputs": [],
   "source": [
    "mycitationdico = {'citing_paper': [],\n",
    "                      'cited_paper': [],\n",
    "                      'publication_date': [],\n",
    "                      'month': [],\n",
    "                      'year': []\n",
    "                      }"
   ]
  },
  {
   "cell_type": "code",
   "execution_count": 6,
   "id": "8c40270d",
   "metadata": {},
   "outputs": [],
   "source": [
    "df_full = df_full[[\"paper\", \"referenced_works\",\"publication_date\",'month','year']]\n",
    "df_full = df_full.drop_duplicates()"
   ]
  },
  {
   "cell_type": "code",
   "execution_count": 7,
   "id": "a922dfaf",
   "metadata": {},
   "outputs": [],
   "source": [
    "df_full = df_full.set_index(\"paper\")"
   ]
  },
  {
   "cell_type": "code",
   "execution_count": 8,
   "id": "365e3ecb",
   "metadata": {},
   "outputs": [
    {
     "name": "stderr",
     "output_type": "stream",
     "text": [
      "100%|████████████████████████████████████████████████████████████████████████████████| 200/200 [01:47<00:00,  1.86it/s]\n"
     ]
    }
   ],
   "source": [
    "for i in tqdm(range(fractionnumber)):\n",
    "    \n",
    "    # I divide my set in subsets because my function works much better on smaller subsets.\n",
    "    start = i*math.floor(numberofpapers/fractionnumber)\n",
    "    end = (i+1)*math.floor(numberofpapers/fractionnumber)\n",
    "    if i == fractionnumber-1:\n",
    "        mypapers = listpapers[start:]\n",
    "    else:\n",
    "        mypapers = listpapers[start:end]\n",
    "    newdf = create_cit_basic(mypapers,df_full)\n",
    "    \n",
    "    # I add all the information I obtained with my function to the dictionary that I will turn into a pandas dataframe\n",
    "    for item in items:\n",
    "        mycitationdico[item]=mycitationdico[item]+newdf[item]"
   ]
  },
  {
   "cell_type": "markdown",
   "id": "f782b2da",
   "metadata": {},
   "source": [
    "In the end, I save my dictionary as a pandas dataframe and I save it in my data file."
   ]
  },
  {
   "cell_type": "code",
   "execution_count": 9,
   "id": "29156ec9",
   "metadata": {},
   "outputs": [],
   "source": [
    "dfcitbasic = pd.DataFrame(mycitationdico)"
   ]
  },
  {
   "cell_type": "code",
   "execution_count": 10,
   "id": "9f4dc137",
   "metadata": {},
   "outputs": [],
   "source": [
    "dfcitbasic.to_pickle('data_creation_variables/dfcitbasic')"
   ]
  }
 ],
 "metadata": {
  "kernelspec": {
   "display_name": "Python 3 (ipykernel)",
   "language": "python",
   "name": "python3"
  },
  "language_info": {
   "codemirror_mode": {
    "name": "ipython",
    "version": 3
   },
   "file_extension": ".py",
   "mimetype": "text/x-python",
   "name": "python",
   "nbconvert_exporter": "python",
   "pygments_lexer": "ipython3",
   "version": "3.9.12"
  }
 },
 "nbformat": 4,
 "nbformat_minor": 5
}
