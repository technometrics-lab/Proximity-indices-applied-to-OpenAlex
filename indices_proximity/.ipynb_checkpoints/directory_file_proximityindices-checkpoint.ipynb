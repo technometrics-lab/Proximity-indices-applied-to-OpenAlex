{
 "cells": [
  {
   "cell_type": "markdown",
   "id": "9a73a297",
   "metadata": {},
   "source": [
    "# 3) Indices of proximity"
   ]
  },
  {
   "cell_type": "code",
   "execution_count": null,
   "id": "c0a8b6f2",
   "metadata": {},
   "outputs": [],
   "source": []
  },
  {
   "cell_type": "code",
   "execution_count": null,
   "id": "e8736aa5",
   "metadata": {},
   "outputs": [],
   "source": [
    "%run ./creation_indices_normalized.ipynb"
   ]
  },
  {
   "cell_type": "code",
   "execution_count": null,
   "id": "5c0ede66",
   "metadata": {},
   "outputs": [],
   "source": []
  },
  {
   "cell_type": "code",
   "execution_count": null,
   "id": "fb995663",
   "metadata": {},
   "outputs": [],
   "source": [
    "%run ./creation_indices_notnormalized.ipynb"
   ]
  },
  {
   "cell_type": "code",
   "execution_count": null,
   "id": "ed614b9d",
   "metadata": {},
   "outputs": [],
   "source": []
  },
  {
   "cell_type": "code",
   "execution_count": null,
   "id": "efb532e8",
   "metadata": {},
   "outputs": [],
   "source": [
    "%run ./dataexploration_indices_proximity_normalized.ipynb"
   ]
  },
  {
   "cell_type": "code",
   "execution_count": null,
   "id": "e17b206e",
   "metadata": {},
   "outputs": [],
   "source": []
  },
  {
   "cell_type": "code",
   "execution_count": null,
   "id": "67b9ec3d",
   "metadata": {},
   "outputs": [],
   "source": [
    "%run ./dataexploration_indices_proximity_notnormalized.ipynb"
   ]
  }
 ],
 "metadata": {
  "kernelspec": {
   "display_name": "Python 3 (ipykernel)",
   "language": "python",
   "name": "python3"
  },
  "language_info": {
   "codemirror_mode": {
    "name": "ipython",
    "version": 3
   },
   "file_extension": ".py",
   "mimetype": "text/x-python",
   "name": "python",
   "nbconvert_exporter": "python",
   "pygments_lexer": "ipython3",
   "version": "3.9.12"
  }
 },
 "nbformat": 4,
 "nbformat_minor": 5
}
