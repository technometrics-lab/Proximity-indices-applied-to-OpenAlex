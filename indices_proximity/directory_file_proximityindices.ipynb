{
 "cells": [
  {
   "cell_type": "markdown",
   "id": "9a73a297",
   "metadata": {},
   "source": [
    "# 3) Indices of proximity"
   ]
  },
  {
   "cell_type": "markdown",
   "id": "70e71587",
   "metadata": {},
   "source": [
    "_Foreword_\n",
    "\n",
    "This file contains all the files which generate, explore, visualize, process, cluster and forecast time series of indices of technological proximity. The function of each file is explained above the cell containing the command to run the file. Running the whole directy file takes at least 5 days."
   ]
  },
  {
   "cell_type": "markdown",
   "id": "8f0b570c",
   "metadata": {},
   "source": [
    "We ran part of this notebook (except the two last files). Since this notebook was taking a lot of space, we deleted all the outputs, to be able to push it in the github."
   ]
  },
  {
   "cell_type": "markdown",
   "id": "7db7c809",
   "metadata": {},
   "source": [
    "This file generates normalized indices of technological proximity."
   ]
  },
  {
   "cell_type": "code",
   "execution_count": null,
   "id": "e8736aa5",
   "metadata": {
    "scrolled": true
   },
   "outputs": [],
   "source": [
    "%run ./creation_indices_normalized.ipynb"
   ]
  },
  {
   "cell_type": "markdown",
   "id": "e916455e",
   "metadata": {},
   "source": [
    "This file generates non-normalized indices of technological proximity. We will then use this type of indices later in our research."
   ]
  },
  {
   "cell_type": "code",
   "execution_count": null,
   "id": "fb995663",
   "metadata": {},
   "outputs": [],
   "source": [
    "%run ./creation_indices_notnormalized.ipynb"
   ]
  },
  {
   "cell_type": "markdown",
   "id": "cd0f5cbb",
   "metadata": {},
   "source": [
    "This file explores and visualizes in different ways the data of normalized indices focussing on interpolation."
   ]
  },
  {
   "cell_type": "code",
   "execution_count": null,
   "id": "ab07e40a",
   "metadata": {},
   "outputs": [],
   "source": [
    "%run ./dataexploration_indices_proximity_normalized_interpolate.ipynb"
   ]
  },
  {
   "cell_type": "markdown",
   "id": "c589315f",
   "metadata": {},
   "source": [
    "This file explores and visualizes in different ways the data of normalized indices focussing on fitting."
   ]
  },
  {
   "cell_type": "code",
   "execution_count": null,
   "id": "efb532e8",
   "metadata": {},
   "outputs": [],
   "source": [
    "%run ./dataexploration_indices_proximity_normalized_fitting.ipynb"
   ]
  },
  {
   "cell_type": "markdown",
   "id": "84585150",
   "metadata": {},
   "source": [
    "This file explores and visualizes in different ways the data of non-normalized indices focussing on interpolation."
   ]
  },
  {
   "cell_type": "code",
   "execution_count": null,
   "id": "67b9ec3d",
   "metadata": {},
   "outputs": [],
   "source": [
    "%run ./dataexploration_indices_proximity_notnormalized_interpolate.ipynb"
   ]
  },
  {
   "cell_type": "markdown",
   "id": "b6793b9f",
   "metadata": {},
   "source": [
    "This file explores and visualizes in different ways the data of non-normalized indices focussing on fitting."
   ]
  },
  {
   "cell_type": "code",
   "execution_count": null,
   "id": "2f63b2da",
   "metadata": {},
   "outputs": [],
   "source": [
    "%run ./dataexploration_indices_proximity_notnormalized_fitting.ipynb"
   ]
  },
  {
   "cell_type": "code",
   "execution_count": null,
   "id": "00b29687",
   "metadata": {},
   "outputs": [],
   "source": []
  },
  {
   "cell_type": "markdown",
   "id": "97b6e7ac",
   "metadata": {},
   "source": [
    "_Sidenote_\n",
    "\n",
    "Note that the files below need approximately 4 days to be run. 1 day for the clusterisation and 3 days for the forecasting."
   ]
  },
  {
   "cell_type": "markdown",
   "id": "02928a8f",
   "metadata": {},
   "source": [
    "This file compares different way of clustering the time series of each specific type of indices, based on their similarities. It finally produces a dataframe clustering the time series which has the following columns: 'concept1', 'concept2', 'index', 'cluster'."
   ]
  },
  {
   "cell_type": "code",
   "execution_count": null,
   "id": "189c5944",
   "metadata": {},
   "outputs": [],
   "source": [
    "%run ./timeseries_clusterisation.ipynb"
   ]
  },
  {
   "cell_type": "markdown",
   "id": "93559bbf",
   "metadata": {},
   "source": [
    "This file compares different forecasting methods and algorithms measuring their effiency using smapes (symmetric mean absolute percentage error) with some visualization."
   ]
  },
  {
   "cell_type": "code",
   "execution_count": null,
   "id": "d20330de",
   "metadata": {},
   "outputs": [],
   "source": [
    "%run ./timeseries_forecasting.ipynb"
   ]
  }
 ],
 "metadata": {
  "kernelspec": {
   "display_name": "Python 3 (ipykernel)",
   "language": "python",
   "name": "python3"
  },
  "language_info": {
   "codemirror_mode": {
    "name": "ipython",
    "version": 3
   },
   "file_extension": ".py",
   "mimetype": "text/x-python",
   "name": "python",
   "nbconvert_exporter": "python",
   "pygments_lexer": "ipython3",
   "version": "3.9.12"
  }
 },
 "nbformat": 4,
 "nbformat_minor": 5
}
