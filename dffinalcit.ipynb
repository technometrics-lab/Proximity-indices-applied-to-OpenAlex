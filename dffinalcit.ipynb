{
 "cells": [
  {
   "cell_type": "code",
   "execution_count": null,
   "id": "83e65e32",
   "metadata": {},
   "outputs": [],
   "source": [
    "import pandas as pd\n",
    "import pickle\n",
    "from myfunctions import creating_dfcit\n",
    "import time\n",
    "from tqdm import tqdm\n",
    "import math"
   ]
  },
  {
   "cell_type": "code",
   "execution_count": null,
   "id": "e13a97a1",
   "metadata": {},
   "outputs": [],
   "source": [
    "myyears = [2002,2003,2004,2005,2006,2007,2008,2009,2010,2011,2012,2013,2014,2015,2016,2017,2018,2019,2020,2021,2022]\n",
    "mymonths = ['January', 'February', 'March', 'April', 'May', 'June', 'July',\n",
    "            'August', 'September', 'October', 'November', 'December']"
   ]
  },
  {
   "cell_type": "code",
   "execution_count": null,
   "id": "616c8c61",
   "metadata": {},
   "outputs": [],
   "source": [
    "infile_dfcitbasic = open('data_creation_variables/dfcitbasic','rb')\n",
    "dfcitbasic = pickle.load(infile_dfcitbasic)\n",
    "infile_dfcitbasic.close()"
   ]
  },
  {
   "cell_type": "code",
   "execution_count": null,
   "id": "74dfc955",
   "metadata": {},
   "outputs": [],
   "source": [
    "infile_data_full = open('../exploratory_analysis/data_exploratory_analysis/df_full_cleaned','rb')\n",
    "df_full = pickle.load(infile_data_full)\n",
    "infile_data_full.close()"
   ]
  },
  {
   "cell_type": "code",
   "execution_count": null,
   "id": "c5084466",
   "metadata": {},
   "outputs": [],
   "source": [
    "listpapers = list(set(df_full.paper.tolist()))\n",
    "# I want to take all these papers, since I consider all the papers I have regardless of their features and so on."
   ]
  },
  {
   "cell_type": "code",
   "execution_count": null,
   "id": "a0606c4f",
   "metadata": {},
   "outputs": [],
   "source": [
    "del df_full"
   ]
  },
  {
   "cell_type": "code",
   "execution_count": null,
   "id": "955ff848",
   "metadata": {},
   "outputs": [],
   "source": [
    "# this dico will help me to make the links between the two dicos\n",
    "# finaldicocitation and finaldicoauthors\n",
    "\n",
    "# I fill my dico finaldicocitation in order to get my dataframe later"
   ]
  },
  {
   "cell_type": "code",
   "execution_count": null,
   "id": "305d6a6e",
   "metadata": {},
   "outputs": [],
   "source": [
    "numberofpapers=len(listpapers)\n",
    "fractionnumber=100"
   ]
  },
  {
   "cell_type": "code",
   "execution_count": null,
   "id": "20b0e363",
   "metadata": {},
   "outputs": [],
   "source": [
    "list_listpaper=[]"
   ]
  },
  {
   "cell_type": "code",
   "execution_count": null,
   "id": "c0ddcecf",
   "metadata": {},
   "outputs": [],
   "source": [
    "step = int(math.floor(numberofpapers/fractionnumber))"
   ]
  },
  {
   "cell_type": "code",
   "execution_count": null,
   "id": "a2e492e6",
   "metadata": {},
   "outputs": [],
   "source": [
    "for i in tqdm(range(fractionnumber)):\n",
    "    start = i*step\n",
    "    end = (i+1)*step\n",
    "    if i == fractionnumber-1:\n",
    "        mypapers = listpapers[start:]\n",
    "    else:\n",
    "        mypapers = listpapers[start:end]\n",
    "    list_listpaper.append(mypapers)"
   ]
  },
  {
   "cell_type": "code",
   "execution_count": null,
   "id": "8a41e10a",
   "metadata": {},
   "outputs": [],
   "source": [
    "for i in range(fractionnumber):\n",
    "    for j in range(fractionnumber):\n",
    "        lst1 = list_listpaper[i]\n",
    "        lst2 = list_listpaper[j]\n",
    "        res = list(set(lst1) & set(lst2))\n",
    "        if i !=j:\n",
    "            if len(res)!=0:\n",
    "                print(len(res))"
   ]
  },
  {
   "cell_type": "code",
   "execution_count": null,
   "id": "e944e90a",
   "metadata": {},
   "outputs": [],
   "source": [
    "listindex= [0,20,40,60,80,100]"
   ]
  },
  {
   "cell_type": "code",
   "execution_count": null,
   "id": "84a38ec7",
   "metadata": {},
   "outputs": [],
   "source": [
    "list_listpaper_compute=[]"
   ]
  },
  {
   "cell_type": "code",
   "execution_count": null,
   "id": "e2d0f91a",
   "metadata": {},
   "outputs": [],
   "source": [
    "for j in range(5):\n",
    "    list_listpaper_compute.append(list_listpaper[listindex[j]:listindex[j+1]])"
   ]
  },
  {
   "cell_type": "code",
   "execution_count": null,
   "id": "39e4525d",
   "metadata": {},
   "outputs": [],
   "source": [
    "for i in range(5):\n",
    "    for j in range(5):\n",
    "        list1 = list_listpaper_compute[i]\n",
    "        list2 = list_listpaper_compute[j]\n",
    "        for element1 in list1:\n",
    "            for element2 in list2:\n",
    "                res = list(set(element1) & set(element2))\n",
    "                if i !=j:\n",
    "                    if element1!=element2:\n",
    "                        if len(res)!=0:\n",
    "                            print(len(res))"
   ]
  },
  {
   "cell_type": "code",
   "execution_count": null,
   "id": "7c50a4b8",
   "metadata": {},
   "outputs": [],
   "source": [
    "#there are no papers in common in this\n",
    "items = ['paper', 'year', 'month', 'cituptothistime_year','cituptothistime_month', 'citforthemonth', 'citfortheyear']"
   ]
  },
  {
   "cell_type": "code",
   "execution_count": null,
   "id": "3ad80c5b",
   "metadata": {},
   "outputs": [],
   "source": [
    "for j in range(5):\n",
    "    finaldicocitation = {'paper': [],\n",
    "                         'year': [],\n",
    "                         'month': [],\n",
    "                         'cituptothistime_year': [],\n",
    "                         'cituptothistime_month': [],\n",
    "                         'citforthemonth': [],\n",
    "                         'citfortheyear': []\n",
    "                         }\n",
    "    list_df = list(map(lambda x: creating_dfcit(myyears, mymonths, dfcitbasic,x), tqdm(list_listpaper_compute[j])))\n",
    "    for element in list_df:\n",
    "        for item in items:\n",
    "            mynewlist = element[item].tolist()\n",
    "            finaldicocitation[item] = finaldicocitation[item] + mynewlist\n",
    "    newfile = pd.DataFrame(finaldicocitation)\n",
    "    newfile.to_pickle('data_creation_variables/finaldicocitation_full'+str(j))"
   ]
  },
  {
   "cell_type": "code",
   "execution_count": null,
   "id": "1b642b06",
   "metadata": {},
   "outputs": [],
   "source": [
    "finaldicocitation = {'paper': [],\n",
    "                         'year': [],\n",
    "                         'month': [],\n",
    "                         'cituptothistime_year': [],\n",
    "                         'cituptothistime_month': [],\n",
    "                         'citforthemonth': [],\n",
    "                         'citfortheyear': []\n",
    "                         }"
   ]
  },
  {
   "cell_type": "code",
   "execution_count": null,
   "id": "05bc7ab9",
   "metadata": {},
   "outputs": [],
   "source": [
    "for j in range(5):\n",
    "    with open('data_creation_variables/finaldicocitation_full'+str(j), 'rb') as f:\n",
    "        dfdicocit = pickle.load(f)\n",
    "    for item in items:\n",
    "        mynewlist = dfdicocit[item].tolist()\n",
    "        finaldicocitation[item] = finaldicocitation[item] + mynewlist"
   ]
  },
  {
   "cell_type": "code",
   "execution_count": null,
   "id": "07f471e4",
   "metadata": {},
   "outputs": [],
   "source": [
    "newfile = pd.DataFrame(finaldicocitation)"
   ]
  },
  {
   "cell_type": "code",
   "execution_count": null,
   "id": "97bd7e05",
   "metadata": {},
   "outputs": [],
   "source": [
    "newfile.to_pickle('data_creation_variables/finaldicocitation')"
   ]
  }
 ],
 "metadata": {
  "kernelspec": {
   "display_name": "Python 3 (ipykernel)",
   "language": "python",
   "name": "python3"
  },
  "language_info": {
   "codemirror_mode": {
    "name": "ipython",
    "version": 3
   },
   "file_extension": ".py",
   "mimetype": "text/x-python",
   "name": "python",
   "nbconvert_exporter": "python",
   "pygments_lexer": "ipython3",
   "version": "3.9.12"
  }
 },
 "nbformat": 4,
 "nbformat_minor": 5
}
