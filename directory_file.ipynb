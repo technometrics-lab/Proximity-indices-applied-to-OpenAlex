{
 "cells": [
  {
   "cell_type": "markdown",
   "id": "7a5f4dde",
   "metadata": {},
   "source": [
    "#  Directory file "
   ]
  },
  {
   "cell_type": "code",
   "execution_count": null,
   "id": "ccaaa524",
   "metadata": {},
   "outputs": [],
   "source": []
  },
  {
   "cell_type": "code",
   "execution_count": null,
   "id": "f2f02e45",
   "metadata": {},
   "outputs": [],
   "source": [
    "%run ./creation_data_and_variables/directory_file_creation_data.ipynb"
   ]
  },
  {
   "cell_type": "code",
   "execution_count": null,
   "id": "6dcdb867",
   "metadata": {},
   "outputs": [],
   "source": []
  },
  {
   "cell_type": "code",
   "execution_count": null,
   "id": "b77b1860",
   "metadata": {},
   "outputs": [],
   "source": [
    "%run ./exploratory_analysis/directory_file_dataexploration.ipynb"
   ]
  },
  {
   "cell_type": "code",
   "execution_count": null,
   "id": "e5aeebbf",
   "metadata": {},
   "outputs": [],
   "source": []
  },
  {
   "cell_type": "code",
   "execution_count": null,
   "id": "a639ddcf",
   "metadata": {},
   "outputs": [],
   "source": [
    "%run ./indices_proximity/directory_file_proximityindices.ipynb"
   ]
  }
 ],
 "metadata": {
  "kernelspec": {
   "display_name": "Python 3 (ipykernel)",
   "language": "python",
   "name": "python3"
  },
  "language_info": {
   "codemirror_mode": {
    "name": "ipython",
    "version": 3
   },
   "file_extension": ".py",
   "mimetype": "text/x-python",
   "name": "python",
   "nbconvert_exporter": "python",
   "pygments_lexer": "ipython3",
   "version": "3.9.12"
  }
 },
 "nbformat": 4,
 "nbformat_minor": 5
}
