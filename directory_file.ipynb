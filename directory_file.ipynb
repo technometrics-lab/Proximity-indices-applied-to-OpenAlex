{
 "cells": [
  {
   "cell_type": "markdown",
   "id": "7a5f4dde",
   "metadata": {},
   "source": [
    "#  Directory file "
   ]
  },
  {
   "cell_type": "markdown",
   "id": "10e349c6",
   "metadata": {},
   "source": [
    "_Foreword_\n",
    "\n",
    "This directory file contains all the directory files specific to each folder. Running this directory file runs each specific directory file, which run each file contained in their respective folders. So running this file, make run everything in the right order and thus reproduce all the studies we did in this internship. Running this directory might take a complete week, i.e. seven days."
   ]
  },
  {
   "cell_type": "code",
   "execution_count": null,
   "id": "b10b6134",
   "metadata": {},
   "outputs": [],
   "source": []
  },
  {
   "cell_type": "markdown",
   "id": "2c457f61",
   "metadata": {},
   "source": [
    "This file contains all the files related to the creation of variables and data.Running the whole directy file takes more than a day."
   ]
  },
  {
   "cell_type": "code",
   "execution_count": null,
   "id": "f2f02e45",
   "metadata": {},
   "outputs": [],
   "source": [
    "%run ./creation_data_and_variables/directory_file_creation_data.ipynb"
   ]
  },
  {
   "cell_type": "markdown",
   "id": "216cd97e",
   "metadata": {},
   "source": [
    "This file contains all the files which explore the different pandas dataframes we created previously. Running the whole directy file might take a few hours."
   ]
  },
  {
   "cell_type": "code",
   "execution_count": null,
   "id": "b77b1860",
   "metadata": {},
   "outputs": [],
   "source": [
    "%run ./exploratory_analysis/directory_file_dataexploration.ipynb"
   ]
  },
  {
   "cell_type": "markdown",
   "id": "20ec05ed",
   "metadata": {},
   "source": [
    "This file contains all the files which generate, explore, visualize, process, cluster and forecast time series of indices of technological proximity. Running the whole directy file takes at least 5 days."
   ]
  },
  {
   "cell_type": "code",
   "execution_count": null,
   "id": "a639ddcf",
   "metadata": {},
   "outputs": [],
   "source": [
    "%run ./indices_proximity/directory_file_proximityindices.ipynb"
   ]
  }
 ],
 "metadata": {
  "kernelspec": {
   "display_name": "Python 3 (ipykernel)",
   "language": "python",
   "name": "python3"
  },
  "language_info": {
   "codemirror_mode": {
    "name": "ipython",
    "version": 3
   },
   "file_extension": ".py",
   "mimetype": "text/x-python",
   "name": "python",
   "nbconvert_exporter": "python",
   "pygments_lexer": "ipython3",
   "version": "3.9.12"
  }
 },
 "nbformat": 4,
 "nbformat_minor": 5
}
